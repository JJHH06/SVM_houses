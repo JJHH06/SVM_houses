{
 "cells": [
  {
   "cell_type": "markdown",
   "metadata": {},
   "source": [
    "## Hoja de trabajo 7.1 SVM ##\n",
    "**José Hurtarte 19707**  \n",
    "**Andrei Portales 19825**  \n",
    "**Christian Pérez 19710**  "
   ]
  },
  {
   "cell_type": "code",
   "execution_count": 113,
   "metadata": {},
   "outputs": [],
   "source": [
    "import pandas as pd\n",
    "import numpy as np\n",
    "import seaborn as sb\n",
    "import matplotlib.pyplot as plt\n",
    "import random\n",
    "from sklearn import datasets\n",
    "from sklearn.model_selection import train_test_split\n",
    "import seaborn as sns\n",
    "from sklearn.tree import DecisionTreeClassifier\n",
    "from sklearn.ensemble import RandomForestClassifier\n",
    "from sklearn import tree\n",
    "from sklearn import metrics\n",
    "from sklearn.model_selection import cross_val_predict\n",
    "from sklearn.metrics import confusion_matrix\n",
    "from sklearn.metrics import accuracy_score ,precision_score,recall_score,f1_score,classification_report\n",
    "from sklearn.svm import SVC\n",
    "from sklearn.svm import SVR\n",
    "from sklearn.model_selection import GridSearchCV\n",
    "from sklearn.naive_bayes import GaussianNB\n",
    "\n",
    "#import graphviz\n",
    "#from sklearn.tree import convert_to_graphviz\n",
    "\n",
    "\n",
    "%matplotlib inline\n",
    "plt.rcParams['figure.figsize'] = (15, 9)\n",
    "plt.style.use('ggplot')"
   ]
  },
  {
   "cell_type": "code",
   "execution_count": 63,
   "metadata": {},
   "outputs": [],
   "source": [
    "data = pd.read_csv('data/train.csv').drop(['Id'], axis = 1)\n",
    "# test = pd.read_csv('data/test.csv')"
   ]
  },
  {
   "cell_type": "code",
   "execution_count": 64,
   "metadata": {},
   "outputs": [
    {
     "data": {
      "text/html": [
       "<div>\n",
       "<style scoped>\n",
       "    .dataframe tbody tr th:only-of-type {\n",
       "        vertical-align: middle;\n",
       "    }\n",
       "\n",
       "    .dataframe tbody tr th {\n",
       "        vertical-align: top;\n",
       "    }\n",
       "\n",
       "    .dataframe thead th {\n",
       "        text-align: right;\n",
       "    }\n",
       "</style>\n",
       "<table border=\"1\" class=\"dataframe\">\n",
       "  <thead>\n",
       "    <tr style=\"text-align: right;\">\n",
       "      <th></th>\n",
       "      <th>MSSubClass</th>\n",
       "      <th>MSZoning</th>\n",
       "      <th>LotFrontage</th>\n",
       "      <th>LotArea</th>\n",
       "      <th>Street</th>\n",
       "      <th>Alley</th>\n",
       "      <th>LotShape</th>\n",
       "      <th>LandContour</th>\n",
       "      <th>Utilities</th>\n",
       "      <th>LotConfig</th>\n",
       "      <th>...</th>\n",
       "      <th>PoolArea</th>\n",
       "      <th>PoolQC</th>\n",
       "      <th>Fence</th>\n",
       "      <th>MiscFeature</th>\n",
       "      <th>MiscVal</th>\n",
       "      <th>MoSold</th>\n",
       "      <th>YrSold</th>\n",
       "      <th>SaleType</th>\n",
       "      <th>SaleCondition</th>\n",
       "      <th>SalePrice</th>\n",
       "    </tr>\n",
       "  </thead>\n",
       "  <tbody>\n",
       "    <tr>\n",
       "      <th>0</th>\n",
       "      <td>60</td>\n",
       "      <td>RL</td>\n",
       "      <td>65.0</td>\n",
       "      <td>8450</td>\n",
       "      <td>Pave</td>\n",
       "      <td>NaN</td>\n",
       "      <td>Reg</td>\n",
       "      <td>Lvl</td>\n",
       "      <td>AllPub</td>\n",
       "      <td>Inside</td>\n",
       "      <td>...</td>\n",
       "      <td>0</td>\n",
       "      <td>NaN</td>\n",
       "      <td>NaN</td>\n",
       "      <td>NaN</td>\n",
       "      <td>0</td>\n",
       "      <td>2</td>\n",
       "      <td>2008</td>\n",
       "      <td>WD</td>\n",
       "      <td>Normal</td>\n",
       "      <td>208500</td>\n",
       "    </tr>\n",
       "    <tr>\n",
       "      <th>1</th>\n",
       "      <td>20</td>\n",
       "      <td>RL</td>\n",
       "      <td>80.0</td>\n",
       "      <td>9600</td>\n",
       "      <td>Pave</td>\n",
       "      <td>NaN</td>\n",
       "      <td>Reg</td>\n",
       "      <td>Lvl</td>\n",
       "      <td>AllPub</td>\n",
       "      <td>FR2</td>\n",
       "      <td>...</td>\n",
       "      <td>0</td>\n",
       "      <td>NaN</td>\n",
       "      <td>NaN</td>\n",
       "      <td>NaN</td>\n",
       "      <td>0</td>\n",
       "      <td>5</td>\n",
       "      <td>2007</td>\n",
       "      <td>WD</td>\n",
       "      <td>Normal</td>\n",
       "      <td>181500</td>\n",
       "    </tr>\n",
       "    <tr>\n",
       "      <th>2</th>\n",
       "      <td>60</td>\n",
       "      <td>RL</td>\n",
       "      <td>68.0</td>\n",
       "      <td>11250</td>\n",
       "      <td>Pave</td>\n",
       "      <td>NaN</td>\n",
       "      <td>IR1</td>\n",
       "      <td>Lvl</td>\n",
       "      <td>AllPub</td>\n",
       "      <td>Inside</td>\n",
       "      <td>...</td>\n",
       "      <td>0</td>\n",
       "      <td>NaN</td>\n",
       "      <td>NaN</td>\n",
       "      <td>NaN</td>\n",
       "      <td>0</td>\n",
       "      <td>9</td>\n",
       "      <td>2008</td>\n",
       "      <td>WD</td>\n",
       "      <td>Normal</td>\n",
       "      <td>223500</td>\n",
       "    </tr>\n",
       "    <tr>\n",
       "      <th>3</th>\n",
       "      <td>70</td>\n",
       "      <td>RL</td>\n",
       "      <td>60.0</td>\n",
       "      <td>9550</td>\n",
       "      <td>Pave</td>\n",
       "      <td>NaN</td>\n",
       "      <td>IR1</td>\n",
       "      <td>Lvl</td>\n",
       "      <td>AllPub</td>\n",
       "      <td>Corner</td>\n",
       "      <td>...</td>\n",
       "      <td>0</td>\n",
       "      <td>NaN</td>\n",
       "      <td>NaN</td>\n",
       "      <td>NaN</td>\n",
       "      <td>0</td>\n",
       "      <td>2</td>\n",
       "      <td>2006</td>\n",
       "      <td>WD</td>\n",
       "      <td>Abnorml</td>\n",
       "      <td>140000</td>\n",
       "    </tr>\n",
       "    <tr>\n",
       "      <th>4</th>\n",
       "      <td>60</td>\n",
       "      <td>RL</td>\n",
       "      <td>84.0</td>\n",
       "      <td>14260</td>\n",
       "      <td>Pave</td>\n",
       "      <td>NaN</td>\n",
       "      <td>IR1</td>\n",
       "      <td>Lvl</td>\n",
       "      <td>AllPub</td>\n",
       "      <td>FR2</td>\n",
       "      <td>...</td>\n",
       "      <td>0</td>\n",
       "      <td>NaN</td>\n",
       "      <td>NaN</td>\n",
       "      <td>NaN</td>\n",
       "      <td>0</td>\n",
       "      <td>12</td>\n",
       "      <td>2008</td>\n",
       "      <td>WD</td>\n",
       "      <td>Normal</td>\n",
       "      <td>250000</td>\n",
       "    </tr>\n",
       "  </tbody>\n",
       "</table>\n",
       "<p>5 rows × 80 columns</p>\n",
       "</div>"
      ],
      "text/plain": [
       "   MSSubClass MSZoning  LotFrontage  LotArea Street Alley LotShape  \\\n",
       "0          60       RL         65.0     8450   Pave   NaN      Reg   \n",
       "1          20       RL         80.0     9600   Pave   NaN      Reg   \n",
       "2          60       RL         68.0    11250   Pave   NaN      IR1   \n",
       "3          70       RL         60.0     9550   Pave   NaN      IR1   \n",
       "4          60       RL         84.0    14260   Pave   NaN      IR1   \n",
       "\n",
       "  LandContour Utilities LotConfig  ... PoolArea PoolQC Fence MiscFeature  \\\n",
       "0         Lvl    AllPub    Inside  ...        0    NaN   NaN         NaN   \n",
       "1         Lvl    AllPub       FR2  ...        0    NaN   NaN         NaN   \n",
       "2         Lvl    AllPub    Inside  ...        0    NaN   NaN         NaN   \n",
       "3         Lvl    AllPub    Corner  ...        0    NaN   NaN         NaN   \n",
       "4         Lvl    AllPub       FR2  ...        0    NaN   NaN         NaN   \n",
       "\n",
       "  MiscVal MoSold  YrSold  SaleType  SaleCondition  SalePrice  \n",
       "0       0      2    2008        WD         Normal     208500  \n",
       "1       0      5    2007        WD         Normal     181500  \n",
       "2       0      9    2008        WD         Normal     223500  \n",
       "3       0      2    2006        WD        Abnorml     140000  \n",
       "4       0     12    2008        WD         Normal     250000  \n",
       "\n",
       "[5 rows x 80 columns]"
      ]
     },
     "execution_count": 64,
     "metadata": {},
     "output_type": "execute_result"
    }
   ],
   "source": [
    "data.head()"
   ]
  },
  {
   "cell_type": "code",
   "execution_count": 65,
   "metadata": {},
   "outputs": [
    {
     "data": {
      "text/plain": [
       "Index(['MSSubClass', 'MSZoning', 'LotFrontage', 'LotArea', 'Street', 'Alley',\n",
       "       'LotShape', 'LandContour', 'Utilities', 'LotConfig', 'LandSlope',\n",
       "       'Neighborhood', 'Condition1', 'Condition2', 'BldgType', 'HouseStyle',\n",
       "       'OverallQual', 'OverallCond', 'YearBuilt', 'YearRemodAdd', 'RoofStyle',\n",
       "       'RoofMatl', 'Exterior1st', 'Exterior2nd', 'MasVnrType', 'MasVnrArea',\n",
       "       'ExterQual', 'ExterCond', 'Foundation', 'BsmtQual', 'BsmtCond',\n",
       "       'BsmtExposure', 'BsmtFinType1', 'BsmtFinSF1', 'BsmtFinType2',\n",
       "       'BsmtFinSF2', 'BsmtUnfSF', 'TotalBsmtSF', 'Heating', 'HeatingQC',\n",
       "       'CentralAir', 'Electrical', '1stFlrSF', '2ndFlrSF', 'LowQualFinSF',\n",
       "       'GrLivArea', 'BsmtFullBath', 'BsmtHalfBath', 'FullBath', 'HalfBath',\n",
       "       'BedroomAbvGr', 'KitchenAbvGr', 'KitchenQual', 'TotRmsAbvGrd',\n",
       "       'Functional', 'Fireplaces', 'FireplaceQu', 'GarageType', 'GarageYrBlt',\n",
       "       'GarageFinish', 'GarageCars', 'GarageArea', 'GarageQual', 'GarageCond',\n",
       "       'PavedDrive', 'WoodDeckSF', 'OpenPorchSF', 'EnclosedPorch', '3SsnPorch',\n",
       "       'ScreenPorch', 'PoolArea', 'PoolQC', 'Fence', 'MiscFeature', 'MiscVal',\n",
       "       'MoSold', 'YrSold', 'SaleType', 'SaleCondition', 'SalePrice'],\n",
       "      dtype='object')"
      ]
     },
     "execution_count": 65,
     "metadata": {},
     "output_type": "execute_result"
    }
   ],
   "source": [
    "# train columns\n",
    "data.columns"
   ]
  },
  {
   "cell_type": "markdown",
   "metadata": {},
   "source": [
    "### Filtrado de variables cara, mediana y económica"
   ]
  },
  {
   "cell_type": "code",
   "execution_count": 66,
   "metadata": {},
   "outputs": [
    {
     "data": {
      "text/plain": [
       "(139000.0, 191000.0)"
      ]
     },
     "execution_count": 66,
     "metadata": {},
     "output_type": "execute_result"
    }
   ],
   "source": [
    "low_price_limit = data.SalePrice.quantile(0.33)\n",
    "mid_price_limit = data.SalePrice.quantile(0.67)\n",
    "\n",
    "(low_price_limit, mid_price_limit)"
   ]
  },
  {
   "cell_type": "code",
   "execution_count": 67,
   "metadata": {},
   "outputs": [
    {
     "name": "stderr",
     "output_type": "stream",
     "text": [
      "C:\\Users\\josej\\AppData\\Local\\Temp\\ipykernel_20648\\716762574.py:2: SettingWithCopyWarning: \n",
      "A value is trying to be set on a copy of a slice from a DataFrame\n",
      "\n",
      "See the caveats in the documentation: https://pandas.pydata.org/pandas-docs/stable/user_guide/indexing.html#returning-a-view-versus-a-copy\n",
      "  data['PriceRangeInt'][data['SalePrice'] < low_price_limit] = 0\n",
      "C:\\Users\\josej\\AppData\\Local\\Temp\\ipykernel_20648\\716762574.py:3: SettingWithCopyWarning: \n",
      "A value is trying to be set on a copy of a slice from a DataFrame\n",
      "\n",
      "See the caveats in the documentation: https://pandas.pydata.org/pandas-docs/stable/user_guide/indexing.html#returning-a-view-versus-a-copy\n",
      "  data['PriceRangeInt'][data['SalePrice'] > mid_price_limit] = 2\n"
     ]
    },
    {
     "data": {
      "text/plain": [
       "0       2\n",
       "1       1\n",
       "2       2\n",
       "3       1\n",
       "4       2\n",
       "       ..\n",
       "1455    1\n",
       "1456    2\n",
       "1457    2\n",
       "1458    1\n",
       "1459    1\n",
       "Name: PriceRangeInt, Length: 1460, dtype: int64"
      ]
     },
     "execution_count": 67,
     "metadata": {},
     "output_type": "execute_result"
    }
   ],
   "source": [
    "data['PriceRangeInt'] = 1\n",
    "data['PriceRangeInt'][data['SalePrice'] < low_price_limit] = 0\n",
    "data['PriceRangeInt'][data['SalePrice'] > mid_price_limit] = 2\n",
    "data['PriceRangeInt']"
   ]
  },
  {
   "cell_type": "code",
   "execution_count": 68,
   "metadata": {},
   "outputs": [
    {
     "data": {
      "text/html": [
       "<div>\n",
       "<style scoped>\n",
       "    .dataframe tbody tr th:only-of-type {\n",
       "        vertical-align: middle;\n",
       "    }\n",
       "\n",
       "    .dataframe tbody tr th {\n",
       "        vertical-align: top;\n",
       "    }\n",
       "\n",
       "    .dataframe thead th {\n",
       "        text-align: right;\n",
       "    }\n",
       "</style>\n",
       "<table border=\"1\" class=\"dataframe\">\n",
       "  <thead>\n",
       "    <tr style=\"text-align: right;\">\n",
       "      <th></th>\n",
       "      <th>GrLivArea</th>\n",
       "      <th>GarageCars</th>\n",
       "      <th>TotalBsmtSF</th>\n",
       "      <th>OverallQual</th>\n",
       "    </tr>\n",
       "  </thead>\n",
       "  <tbody>\n",
       "    <tr>\n",
       "      <th>0</th>\n",
       "      <td>1710</td>\n",
       "      <td>2</td>\n",
       "      <td>856</td>\n",
       "      <td>7</td>\n",
       "    </tr>\n",
       "    <tr>\n",
       "      <th>1</th>\n",
       "      <td>1262</td>\n",
       "      <td>2</td>\n",
       "      <td>1262</td>\n",
       "      <td>6</td>\n",
       "    </tr>\n",
       "    <tr>\n",
       "      <th>2</th>\n",
       "      <td>1786</td>\n",
       "      <td>2</td>\n",
       "      <td>920</td>\n",
       "      <td>7</td>\n",
       "    </tr>\n",
       "    <tr>\n",
       "      <th>3</th>\n",
       "      <td>1717</td>\n",
       "      <td>3</td>\n",
       "      <td>756</td>\n",
       "      <td>7</td>\n",
       "    </tr>\n",
       "    <tr>\n",
       "      <th>4</th>\n",
       "      <td>2198</td>\n",
       "      <td>3</td>\n",
       "      <td>1145</td>\n",
       "      <td>8</td>\n",
       "    </tr>\n",
       "    <tr>\n",
       "      <th>...</th>\n",
       "      <td>...</td>\n",
       "      <td>...</td>\n",
       "      <td>...</td>\n",
       "      <td>...</td>\n",
       "    </tr>\n",
       "    <tr>\n",
       "      <th>1455</th>\n",
       "      <td>1647</td>\n",
       "      <td>2</td>\n",
       "      <td>953</td>\n",
       "      <td>6</td>\n",
       "    </tr>\n",
       "    <tr>\n",
       "      <th>1456</th>\n",
       "      <td>2073</td>\n",
       "      <td>2</td>\n",
       "      <td>1542</td>\n",
       "      <td>6</td>\n",
       "    </tr>\n",
       "    <tr>\n",
       "      <th>1457</th>\n",
       "      <td>2340</td>\n",
       "      <td>1</td>\n",
       "      <td>1152</td>\n",
       "      <td>7</td>\n",
       "    </tr>\n",
       "    <tr>\n",
       "      <th>1458</th>\n",
       "      <td>1078</td>\n",
       "      <td>1</td>\n",
       "      <td>1078</td>\n",
       "      <td>5</td>\n",
       "    </tr>\n",
       "    <tr>\n",
       "      <th>1459</th>\n",
       "      <td>1256</td>\n",
       "      <td>1</td>\n",
       "      <td>1256</td>\n",
       "      <td>5</td>\n",
       "    </tr>\n",
       "  </tbody>\n",
       "</table>\n",
       "<p>1460 rows × 4 columns</p>\n",
       "</div>"
      ],
      "text/plain": [
       "      GrLivArea  GarageCars  TotalBsmtSF  OverallQual\n",
       "0          1710           2          856            7\n",
       "1          1262           2         1262            6\n",
       "2          1786           2          920            7\n",
       "3          1717           3          756            7\n",
       "4          2198           3         1145            8\n",
       "...         ...         ...          ...          ...\n",
       "1455       1647           2          953            6\n",
       "1456       2073           2         1542            6\n",
       "1457       2340           1         1152            7\n",
       "1458       1078           1         1078            5\n",
       "1459       1256           1         1256            5\n",
       "\n",
       "[1460 rows x 4 columns]"
      ]
     },
     "execution_count": 68,
     "metadata": {},
     "output_type": "execute_result"
    }
   ],
   "source": [
    "predictors_1 =['GrLivArea', 'GarageCars', 'TotalBsmtSF', 'OverallQual']\n",
    "data[predictors_1]"
   ]
  },
  {
   "cell_type": "code",
   "execution_count": 69,
   "metadata": {},
   "outputs": [
    {
     "data": {
      "text/plain": [
       "<AxesSubplot:>"
      ]
     },
     "execution_count": 69,
     "metadata": {},
     "output_type": "execute_result"
    },
    {
     "data": {
      "image/png": "[encoded data removed]",
      "text/plain": [
       "<Figure size 576x576 with 2 Axes>"
      ]
     },
     "metadata": {},
     "output_type": "display_data"
    }
   ],
   "source": [
    "plt.subplots(figsize = (8,8))\n",
    "sns.heatmap(data[predictors_1 + ['SalePrice']].corr(), xticklabels=data[predictors_1 + ['SalePrice']].corr().columns, yticklabels=data[predictors_1 + ['SalePrice']].corr().columns, annot=True)\n"
   ]
  },
  {
   "cell_type": "markdown",
   "metadata": {},
   "source": [
    "Para las variables a incluír en esta hoja de trabajo se escogieron todas aquellas que tuviesen una correlación con coeficiente de Pearson alta y que tuviesen una correlación no fuerte entre ellas para evitar el overfit. Además para que fuesen aptas para una máquina de soporte es necesario que todas sean variables númericas y ya que no se cuenta con una escala congruente una normalización arrojaría exactamente los mismos resultados que los datos no normalizados, con esto en base la única transformación en el dataset fue la variable respuesta basada en percentiles además del filtrado para variables no existentes para evitar fallos en los modelos de predicción."
   ]
  },
  {
   "cell_type": "markdown",
   "metadata": {},
   "source": [
    "## Modelo Kernel Lineal"
   ]
  },
  {
   "cell_type": "markdown",
   "metadata": {},
   "source": [
    "#### Dataset de entrenamiento y prueba"
   ]
  },
  {
   "cell_type": "code",
   "execution_count": 70,
   "metadata": {},
   "outputs": [],
   "source": [
    "# Data con variables para no modificar dataset original\n",
    "data_vars = data[predictors_1  + ['PriceRangeInt']]\n",
    "data_vars = data_vars.dropna()\n",
    "\n",
    "y = data_vars['PriceRangeInt']  #La variable respuesta\n",
    "X = data_vars[predictors_1] #El resto de los datos"
   ]
  },
  {
   "cell_type": "code",
   "execution_count": 71,
   "metadata": {},
   "outputs": [],
   "source": [
    "X_train, X_test,y_train, y_test = train_test_split(X, y,test_size=0.3,train_size=0.7, random_state=123)"
   ]
  },
  {
   "cell_type": "markdown",
   "metadata": {},
   "source": [
    "#### Tuning con parametro C"
   ]
  },
  {
   "cell_type": "code",
   "execution_count": 72,
   "metadata": {},
   "outputs": [
    {
     "data": {
      "text/plain": [
       "{'C': 1.0,\n",
       " 'break_ties': False,\n",
       " 'cache_size': 200,\n",
       " 'class_weight': None,\n",
       " 'coef0': 0.0,\n",
       " 'decision_function_shape': 'ovr',\n",
       " 'degree': 3,\n",
       " 'gamma': 'scale',\n",
       " 'kernel': 'linear',\n",
       " 'max_iter': 1000000,\n",
       " 'probability': False,\n",
       " 'random_state': 123,\n",
       " 'shrinking': True,\n",
       " 'tol': 0.001,\n",
       " 'verbose': False}"
      ]
     },
     "execution_count": 72,
     "metadata": {},
     "output_type": "execute_result"
    }
   ],
   "source": [
    "modelo_svm = SVC(kernel='linear', max_iter=1000000, random_state=123)\n",
    "modelo_svm.get_params()"
   ]
  },
  {
   "cell_type": "code",
   "execution_count": 73,
   "metadata": {},
   "outputs": [
    {
     "name": "stderr",
     "output_type": "stream",
     "text": [
      "C:\\Users\\josej\\AppData\\Local\\Programs\\Python\\Python39\\lib\\site-packages\\sklearn\\svm\\_base.py:284: ConvergenceWarning: Solver terminated early (max_iter=1000000).  Consider pre-processing your data with StandardScaler or MinMaxScaler.\n",
      "  warnings.warn(\n"
     ]
    },
    {
     "data": {
      "text/plain": [
       "GridSearchCV(cv=2,\n",
       "             estimator=SVC(kernel='linear', max_iter=1000000, random_state=123),\n",
       "             n_jobs=-1, param_grid={'C': [0.1, 1, 10, 100, 1000]})"
      ]
     },
     "execution_count": 73,
     "metadata": {},
     "output_type": "execute_result"
    }
   ],
   "source": [
    "# #param_grid = {'C': [0.1, 1, 10, 100, 1000], 'gamma': [1, 0.1, 0.01, 0.001, 0.0001]}\n",
    "param_grid = {'C': [0.1, 1, 10, 100, 1000]}\n",
    "model_grid_search = GridSearchCV(modelo_svm, param_grid, cv=2,n_jobs=-1)\n",
    "model_grid_search.fit(X_train, y_train)\n",
    "\n",
    "\n"
   ]
  },
  {
   "cell_type": "markdown",
   "metadata": {},
   "source": [
    "#### Para este modelo de kernel se utilizó únicamente un tuning con el parametro C debido a que es el único adaptable para un kernel lineal, el cual nos dice el margen al rededor del modelo. Mientras más grande sea C se reduce más el margen.  "
   ]
  },
  {
   "cell_type": "code",
   "execution_count": 74,
   "metadata": {},
   "outputs": [
    {
     "data": {
      "text/html": [
       "<div>\n",
       "<style scoped>\n",
       "    .dataframe tbody tr th:only-of-type {\n",
       "        vertical-align: middle;\n",
       "    }\n",
       "\n",
       "    .dataframe tbody tr th {\n",
       "        vertical-align: top;\n",
       "    }\n",
       "\n",
       "    .dataframe thead th {\n",
       "        text-align: right;\n",
       "    }\n",
       "</style>\n",
       "<table border=\"1\" class=\"dataframe\">\n",
       "  <thead>\n",
       "    <tr style=\"text-align: right;\">\n",
       "      <th></th>\n",
       "      <th>mean_fit_time</th>\n",
       "      <th>std_fit_time</th>\n",
       "      <th>mean_score_time</th>\n",
       "      <th>std_score_time</th>\n",
       "      <th>param_C</th>\n",
       "      <th>params</th>\n",
       "      <th>split0_test_score</th>\n",
       "      <th>split1_test_score</th>\n",
       "      <th>mean_test_score</th>\n",
       "      <th>std_test_score</th>\n",
       "      <th>rank_test_score</th>\n",
       "    </tr>\n",
       "  </thead>\n",
       "  <tbody>\n",
       "    <tr>\n",
       "      <th>0</th>\n",
       "      <td>2.470893</td>\n",
       "      <td>0.333608</td>\n",
       "      <td>0.008478</td>\n",
       "      <td>4.984140e-04</td>\n",
       "      <td>0.1</td>\n",
       "      <td>{'C': 0.1}</td>\n",
       "      <td>0.771037</td>\n",
       "      <td>0.772549</td>\n",
       "      <td>0.771793</td>\n",
       "      <td>0.000756</td>\n",
       "      <td>1</td>\n",
       "    </tr>\n",
       "    <tr>\n",
       "      <th>1</th>\n",
       "      <td>7.666005</td>\n",
       "      <td>0.352557</td>\n",
       "      <td>0.005984</td>\n",
       "      <td>3.576279e-07</td>\n",
       "      <td>1</td>\n",
       "      <td>{'C': 1}</td>\n",
       "      <td>0.583170</td>\n",
       "      <td>0.643137</td>\n",
       "      <td>0.613154</td>\n",
       "      <td>0.029984</td>\n",
       "      <td>2</td>\n",
       "    </tr>\n",
       "    <tr>\n",
       "      <th>2</th>\n",
       "      <td>8.518225</td>\n",
       "      <td>0.252326</td>\n",
       "      <td>0.002992</td>\n",
       "      <td>5.960464e-07</td>\n",
       "      <td>10</td>\n",
       "      <td>{'C': 10}</td>\n",
       "      <td>0.645793</td>\n",
       "      <td>0.421569</td>\n",
       "      <td>0.533681</td>\n",
       "      <td>0.112112</td>\n",
       "      <td>3</td>\n",
       "    </tr>\n",
       "    <tr>\n",
       "      <th>3</th>\n",
       "      <td>9.003430</td>\n",
       "      <td>0.354551</td>\n",
       "      <td>0.003491</td>\n",
       "      <td>4.993677e-04</td>\n",
       "      <td>100</td>\n",
       "      <td>{'C': 100}</td>\n",
       "      <td>0.418787</td>\n",
       "      <td>0.388235</td>\n",
       "      <td>0.403511</td>\n",
       "      <td>0.015276</td>\n",
       "      <td>4</td>\n",
       "    </tr>\n",
       "    <tr>\n",
       "      <th>4</th>\n",
       "      <td>7.906538</td>\n",
       "      <td>0.443339</td>\n",
       "      <td>0.002494</td>\n",
       "      <td>4.982948e-04</td>\n",
       "      <td>1000</td>\n",
       "      <td>{'C': 1000}</td>\n",
       "      <td>0.322896</td>\n",
       "      <td>0.472549</td>\n",
       "      <td>0.397723</td>\n",
       "      <td>0.074826</td>\n",
       "      <td>5</td>\n",
       "    </tr>\n",
       "  </tbody>\n",
       "</table>\n",
       "</div>"
      ],
      "text/plain": [
       "   mean_fit_time  std_fit_time  mean_score_time  std_score_time param_C  \\\n",
       "0       2.470893      0.333608         0.008478    4.984140e-04     0.1   \n",
       "1       7.666005      0.352557         0.005984    3.576279e-07       1   \n",
       "2       8.518225      0.252326         0.002992    5.960464e-07      10   \n",
       "3       9.003430      0.354551         0.003491    4.993677e-04     100   \n",
       "4       7.906538      0.443339         0.002494    4.982948e-04    1000   \n",
       "\n",
       "        params  split0_test_score  split1_test_score  mean_test_score  \\\n",
       "0   {'C': 0.1}           0.771037           0.772549         0.771793   \n",
       "1     {'C': 1}           0.583170           0.643137         0.613154   \n",
       "2    {'C': 10}           0.645793           0.421569         0.533681   \n",
       "3   {'C': 100}           0.418787           0.388235         0.403511   \n",
       "4  {'C': 1000}           0.322896           0.472549         0.397723   \n",
       "\n",
       "   std_test_score  rank_test_score  \n",
       "0        0.000756                1  \n",
       "1        0.029984                2  \n",
       "2        0.112112                3  \n",
       "3        0.015276                4  \n",
       "4        0.074826                5  "
      ]
     },
     "execution_count": 74,
     "metadata": {},
     "output_type": "execute_result"
    }
   ],
   "source": [
    "cv_results = pd.DataFrame(model_grid_search.cv_results_).sort_values(by='mean_test_score', ascending=False)\n",
    "cv_results.head()"
   ]
  },
  {
   "cell_type": "markdown",
   "metadata": {},
   "source": [
    "#### Para un máximo de 1 millón de itereaciones se encontró que el mejor valor de C con 2 cross validations es de 0.1, teniendo un puntaje medio de medio del 0.77 lo cual es un puntaje bastante bueno que nos indica una buena tendendia a predecir datos correctamente"
   ]
  },
  {
   "cell_type": "code",
   "execution_count": 75,
   "metadata": {},
   "outputs": [],
   "source": [
    "y_pred = model_grid_search.predict(X_test)\n",
    "cm = confusion_matrix(y_test,y_pred)"
   ]
  },
  {
   "cell_type": "code",
   "execution_count": 76,
   "metadata": {},
   "outputs": [
    {
     "name": "stdout",
     "output_type": "stream",
     "text": [
      "Matriz de confusión para detectar casas con kernel lineal\n",
      " [[111  18   4]\n",
      " [ 46  94  13]\n",
      " [  1  28 123]]\n",
      "Accuracy:  0.7488584474885844\n"
     ]
    }
   ],
   "source": [
    "accuracy=accuracy_score(y_test,y_pred)\n",
    "precision =precision_score(y_test, y_pred,average='micro')\n",
    "recall =  recall_score(y_test, y_pred,average='micro')\n",
    "f1 = f1_score(y_test,y_pred,average='micro')\n",
    "print('Matriz de confusión para detectar casas con kernel lineal\\n',cm)\n",
    "print('Accuracy: ',accuracy)"
   ]
  },
  {
   "cell_type": "code",
   "execution_count": 77,
   "metadata": {},
   "outputs": [
    {
     "name": "stdout",
     "output_type": "stream",
     "text": [
      "              precision    recall  f1-score   support\n",
      "\n",
      "           0       0.70      0.83      0.76       133\n",
      "           1       0.67      0.61      0.64       153\n",
      "           2       0.88      0.81      0.84       152\n",
      "\n",
      "    accuracy                           0.75       438\n",
      "   macro avg       0.75      0.75      0.75       438\n",
      "weighted avg       0.75      0.75      0.75       438\n",
      "\n"
     ]
    }
   ],
   "source": [
    "print(classification_report(y_test,y_pred))"
   ]
  },
  {
   "cell_type": "markdown",
   "metadata": {},
   "source": [
    "#### Mediante la matriz de confusión se observa que tiene una exactitud del 0.748, diciendonos que predice en el modelo 74.8% de los datos correctamente.  \n",
    "#### podemos ver también en el informe de predicción individual hecha a cada una de las categorías que es bastante bueno prediciendo correctamente casas de costo barato y casas de costo alto. Sin embargo, al observar las predicciones de las casas de costo mediano podemos observar que tiende a tener menor presición que el resto y un menor recall, indicandonos que predice erroneamente casas de otras categorías como casas de precio medio."
   ]
  },
  {
   "cell_type": "markdown",
   "metadata": {},
   "source": [
    "## Modelo Kernel Radial"
   ]
  },
  {
   "cell_type": "markdown",
   "metadata": {},
   "source": [
    "#### Tuning con parametro C y Gamma"
   ]
  },
  {
   "cell_type": "code",
   "execution_count": 85,
   "metadata": {},
   "outputs": [
    {
     "data": {
      "text/plain": [
       "{'C': 1.0,\n",
       " 'break_ties': False,\n",
       " 'cache_size': 200,\n",
       " 'class_weight': None,\n",
       " 'coef0': 0.0,\n",
       " 'decision_function_shape': 'ovr',\n",
       " 'degree': 3,\n",
       " 'gamma': 'scale',\n",
       " 'kernel': 'rbf',\n",
       " 'max_iter': 1000000,\n",
       " 'probability': False,\n",
       " 'random_state': 123,\n",
       " 'shrinking': True,\n",
       " 'tol': 0.001,\n",
       " 'verbose': False}"
      ]
     },
     "execution_count": 85,
     "metadata": {},
     "output_type": "execute_result"
    }
   ],
   "source": [
    "modelo_svm = SVC(kernel='rbf', max_iter=1000000, random_state=123)\n",
    "modelo_svm.get_params()"
   ]
  },
  {
   "cell_type": "code",
   "execution_count": 86,
   "metadata": {},
   "outputs": [
    {
     "data": {
      "text/plain": [
       "GridSearchCV(cv=2, estimator=SVC(max_iter=1000000, random_state=123), n_jobs=-1,\n",
       "             param_grid={'C': [0.1, 1, 10, 100, 1000],\n",
       "                         'gamma': [1, 0.1, 0.01, 0.001, 0.0001]})"
      ]
     },
     "execution_count": 86,
     "metadata": {},
     "output_type": "execute_result"
    }
   ],
   "source": [
    "param_grid = {'C': [0.1, 1, 10, 100, 1000], 'gamma': [1, 0.1, 0.01, 0.001, 0.0001]}\n",
    "model_grid_search = GridSearchCV(modelo_svm, param_grid, cv=2,n_jobs=-1)\n",
    "model_grid_search.fit(X_train, y_train)\n",
    "\n",
    "\n"
   ]
  },
  {
   "cell_type": "markdown",
   "metadata": {},
   "source": [
    "#### El modelo radial acepta parametros de C y Gamma. Gamma nos dicta hasta donde influencia una ocurrencia, siendo un valor más alto de gamma un indicador de que el modelo se estará adaptando de manera muy cercana a cada uno de los datos."
   ]
  },
  {
   "cell_type": "code",
   "execution_count": 87,
   "metadata": {},
   "outputs": [
    {
     "data": {
      "text/html": [
       "<div>\n",
       "<style scoped>\n",
       "    .dataframe tbody tr th:only-of-type {\n",
       "        vertical-align: middle;\n",
       "    }\n",
       "\n",
       "    .dataframe tbody tr th {\n",
       "        vertical-align: top;\n",
       "    }\n",
       "\n",
       "    .dataframe thead th {\n",
       "        text-align: right;\n",
       "    }\n",
       "</style>\n",
       "<table border=\"1\" class=\"dataframe\">\n",
       "  <thead>\n",
       "    <tr style=\"text-align: right;\">\n",
       "      <th></th>\n",
       "      <th>mean_fit_time</th>\n",
       "      <th>std_fit_time</th>\n",
       "      <th>mean_score_time</th>\n",
       "      <th>std_score_time</th>\n",
       "      <th>param_C</th>\n",
       "      <th>param_gamma</th>\n",
       "      <th>params</th>\n",
       "      <th>split0_test_score</th>\n",
       "      <th>split1_test_score</th>\n",
       "      <th>mean_test_score</th>\n",
       "      <th>std_test_score</th>\n",
       "      <th>rank_test_score</th>\n",
       "    </tr>\n",
       "  </thead>\n",
       "  <tbody>\n",
       "    <tr>\n",
       "      <th>9</th>\n",
       "      <td>0.023935</td>\n",
       "      <td>0.001995</td>\n",
       "      <td>0.048372</td>\n",
       "      <td>6.482720e-03</td>\n",
       "      <td>1</td>\n",
       "      <td>0.0001</td>\n",
       "      <td>{'C': 1, 'gamma': 0.0001}</td>\n",
       "      <td>0.694716</td>\n",
       "      <td>0.694118</td>\n",
       "      <td>0.694417</td>\n",
       "      <td>0.000299</td>\n",
       "      <td>1</td>\n",
       "    </tr>\n",
       "    <tr>\n",
       "      <th>14</th>\n",
       "      <td>0.027426</td>\n",
       "      <td>0.004488</td>\n",
       "      <td>0.040892</td>\n",
       "      <td>1.311302e-06</td>\n",
       "      <td>10</td>\n",
       "      <td>0.0001</td>\n",
       "      <td>{'C': 10, 'gamma': 0.0001}</td>\n",
       "      <td>0.659491</td>\n",
       "      <td>0.664706</td>\n",
       "      <td>0.662099</td>\n",
       "      <td>0.002607</td>\n",
       "      <td>2</td>\n",
       "    </tr>\n",
       "    <tr>\n",
       "      <th>24</th>\n",
       "      <td>0.072815</td>\n",
       "      <td>0.004488</td>\n",
       "      <td>0.019484</td>\n",
       "      <td>4.622936e-04</td>\n",
       "      <td>1000</td>\n",
       "      <td>0.0001</td>\n",
       "      <td>{'C': 1000, 'gamma': 0.0001}</td>\n",
       "      <td>0.651663</td>\n",
       "      <td>0.649020</td>\n",
       "      <td>0.650342</td>\n",
       "      <td>0.001322</td>\n",
       "      <td>3</td>\n",
       "    </tr>\n",
       "    <tr>\n",
       "      <th>19</th>\n",
       "      <td>0.034408</td>\n",
       "      <td>0.003491</td>\n",
       "      <td>0.038896</td>\n",
       "      <td>1.192093e-07</td>\n",
       "      <td>100</td>\n",
       "      <td>0.0001</td>\n",
       "      <td>{'C': 100, 'gamma': 0.0001}</td>\n",
       "      <td>0.637965</td>\n",
       "      <td>0.641176</td>\n",
       "      <td>0.639571</td>\n",
       "      <td>0.001606</td>\n",
       "      <td>4</td>\n",
       "    </tr>\n",
       "    <tr>\n",
       "      <th>8</th>\n",
       "      <td>0.043882</td>\n",
       "      <td>0.007979</td>\n",
       "      <td>0.062832</td>\n",
       "      <td>8.975625e-03</td>\n",
       "      <td>1</td>\n",
       "      <td>0.001</td>\n",
       "      <td>{'C': 1, 'gamma': 0.001}</td>\n",
       "      <td>0.634051</td>\n",
       "      <td>0.627451</td>\n",
       "      <td>0.630751</td>\n",
       "      <td>0.003300</td>\n",
       "      <td>5</td>\n",
       "    </tr>\n",
       "  </tbody>\n",
       "</table>\n",
       "</div>"
      ],
      "text/plain": [
       "    mean_fit_time  std_fit_time  mean_score_time  std_score_time param_C  \\\n",
       "9        0.023935      0.001995         0.048372    6.482720e-03       1   \n",
       "14       0.027426      0.004488         0.040892    1.311302e-06      10   \n",
       "24       0.072815      0.004488         0.019484    4.622936e-04    1000   \n",
       "19       0.034408      0.003491         0.038896    1.192093e-07     100   \n",
       "8        0.043882      0.007979         0.062832    8.975625e-03       1   \n",
       "\n",
       "   param_gamma                        params  split0_test_score  \\\n",
       "9       0.0001     {'C': 1, 'gamma': 0.0001}           0.694716   \n",
       "14      0.0001    {'C': 10, 'gamma': 0.0001}           0.659491   \n",
       "24      0.0001  {'C': 1000, 'gamma': 0.0001}           0.651663   \n",
       "19      0.0001   {'C': 100, 'gamma': 0.0001}           0.637965   \n",
       "8        0.001      {'C': 1, 'gamma': 0.001}           0.634051   \n",
       "\n",
       "    split1_test_score  mean_test_score  std_test_score  rank_test_score  \n",
       "9            0.694118         0.694417        0.000299                1  \n",
       "14           0.664706         0.662099        0.002607                2  \n",
       "24           0.649020         0.650342        0.001322                3  \n",
       "19           0.641176         0.639571        0.001606                4  \n",
       "8            0.627451         0.630751        0.003300                5  "
      ]
     },
     "execution_count": 87,
     "metadata": {},
     "output_type": "execute_result"
    }
   ],
   "source": [
    "cv_results = pd.DataFrame(model_grid_search.cv_results_).sort_values(by='mean_test_score', ascending=False)\n",
    "cv_results.head()"
   ]
  },
  {
   "cell_type": "markdown",
   "metadata": {},
   "source": [
    "#### Este modelo convergió antes del millón de iteraciones de límite establecidas en todos los casos, teniendo un tiempo de ejecución menor. Además se escogio la combinación de un valor C = 1 y gamma = 0.0001, teniendo un score medio entre 2 cross validations de 0.694. Algo interesante a mencionar es que en los 4 modelos el valor de gamma es el mismo, por lo que se puede decir que desde esta perspectiva cada punto fue tomado con una alta influencia sobre el modelo de predicción."
   ]
  },
  {
   "cell_type": "code",
   "execution_count": 88,
   "metadata": {},
   "outputs": [],
   "source": [
    "y_pred = model_grid_search.predict(X_test)\n",
    "cm = confusion_matrix(y_test,y_pred)"
   ]
  },
  {
   "cell_type": "code",
   "execution_count": 89,
   "metadata": {},
   "outputs": [
    {
     "name": "stdout",
     "output_type": "stream",
     "text": [
      "Matriz de confusión para detectar casas con kernel lineal\n",
      " [[103  20  10]\n",
      " [ 28 110  15]\n",
      " [  2  28 122]]\n",
      "Accuracy:  0.7648401826484018\n"
     ]
    }
   ],
   "source": [
    "accuracy=accuracy_score(y_test,y_pred)\n",
    "precision =precision_score(y_test, y_pred,average='micro')\n",
    "recall =  recall_score(y_test, y_pred,average='micro')\n",
    "f1 = f1_score(y_test,y_pred,average='micro')\n",
    "print('Matriz de confusión para detectar casas con kernel lineal\\n',cm)\n",
    "print('Accuracy: ',accuracy)"
   ]
  },
  {
   "cell_type": "code",
   "execution_count": 90,
   "metadata": {},
   "outputs": [
    {
     "name": "stdout",
     "output_type": "stream",
     "text": [
      "              precision    recall  f1-score   support\n",
      "\n",
      "           0       0.77      0.77      0.77       133\n",
      "           1       0.70      0.72      0.71       153\n",
      "           2       0.83      0.80      0.82       152\n",
      "\n",
      "    accuracy                           0.76       438\n",
      "   macro avg       0.77      0.77      0.77       438\n",
      "weighted avg       0.77      0.76      0.77       438\n",
      "\n"
     ]
    }
   ],
   "source": [
    "print(classification_report(y_test,y_pred))"
   ]
  },
  {
   "cell_type": "markdown",
   "metadata": {},
   "source": [
    "#### A pesar de tener un score medio 0.694, la exactitud del modelo fue del 76% lo cual es levemente superior al modelo con kernel lineal. Además podemos observar en el reporte individual que tiene una muy buena presición del 83% para la categoría de casas caras.  \n",
    "#### También se observa que el valor mínimo de recall es del 0.72 y de presición del 0.70, ambas en la clasificación de casas medianas, a pesar de ser numeros bastantes aceptables se puede decir que esta categoría fue la que más problemas tuvo al clasificar."
   ]
  },
  {
   "cell_type": "markdown",
   "metadata": {},
   "source": [
    "## Modelo Kernel polinomico"
   ]
  },
  {
   "cell_type": "markdown",
   "metadata": {},
   "source": [
    "#### Tuning con parametro C, gamma y degree (grados de libertad)"
   ]
  },
  {
   "cell_type": "code",
   "execution_count": 91,
   "metadata": {},
   "outputs": [
    {
     "data": {
      "text/plain": [
       "{'C': 1.0,\n",
       " 'break_ties': False,\n",
       " 'cache_size': 200,\n",
       " 'class_weight': None,\n",
       " 'coef0': 0.0,\n",
       " 'decision_function_shape': 'ovr',\n",
       " 'degree': 3,\n",
       " 'gamma': 'scale',\n",
       " 'kernel': 'poly',\n",
       " 'max_iter': 1000000,\n",
       " 'probability': False,\n",
       " 'random_state': 123,\n",
       " 'shrinking': True,\n",
       " 'tol': 0.001,\n",
       " 'verbose': False}"
      ]
     },
     "execution_count": 91,
     "metadata": {},
     "output_type": "execute_result"
    }
   ],
   "source": [
    "modelo_svm = SVC(kernel='poly', max_iter=1000000, random_state=123)\n",
    "modelo_svm.get_params()"
   ]
  },
  {
   "cell_type": "code",
   "execution_count": 92,
   "metadata": {},
   "outputs": [
    {
     "name": "stderr",
     "output_type": "stream",
     "text": [
      "C:\\Users\\josej\\AppData\\Local\\Programs\\Python\\Python39\\lib\\site-packages\\sklearn\\svm\\_base.py:284: ConvergenceWarning: Solver terminated early (max_iter=1000000).  Consider pre-processing your data with StandardScaler or MinMaxScaler.\n",
      "  warnings.warn(\n"
     ]
    },
    {
     "data": {
      "text/plain": [
       "GridSearchCV(cv=2,\n",
       "             estimator=SVC(kernel='poly', max_iter=1000000, random_state=123),\n",
       "             n_jobs=-1,\n",
       "             param_grid={'C': [0.1, 1, 10, 100, 1000],\n",
       "                         'degree': [2, 3, 4, 5, 6],\n",
       "                         'gamma': [1, 0.1, 0.01, 0.001, 0.0001]})"
      ]
     },
     "execution_count": 92,
     "metadata": {},
     "output_type": "execute_result"
    }
   ],
   "source": [
    "param_grid = {'C': [0.1, 1, 10, 100, 1000], 'gamma': [1, 0.1, 0.01, 0.001, 0.0001], 'degree': [2, 3, 4, 5, 6]}\n",
    "model_grid_search = GridSearchCV(modelo_svm, param_grid, cv=2,n_jobs=-1)\n",
    "model_grid_search.fit(X_train, y_train)\n",
    "\n",
    "\n"
   ]
  },
  {
   "cell_type": "markdown",
   "metadata": {},
   "source": [
    "#### Para este modelo con un máximo de 1 millón de iteraciones se modificaron gamma, C y los grados de libertad del modelo polinomial."
   ]
  },
  {
   "cell_type": "code",
   "execution_count": 93,
   "metadata": {},
   "outputs": [
    {
     "data": {
      "text/html": [
       "<div>\n",
       "<style scoped>\n",
       "    .dataframe tbody tr th:only-of-type {\n",
       "        vertical-align: middle;\n",
       "    }\n",
       "\n",
       "    .dataframe tbody tr th {\n",
       "        vertical-align: top;\n",
       "    }\n",
       "\n",
       "    .dataframe thead th {\n",
       "        text-align: right;\n",
       "    }\n",
       "</style>\n",
       "<table border=\"1\" class=\"dataframe\">\n",
       "  <thead>\n",
       "    <tr style=\"text-align: right;\">\n",
       "      <th></th>\n",
       "      <th>mean_fit_time</th>\n",
       "      <th>std_fit_time</th>\n",
       "      <th>mean_score_time</th>\n",
       "      <th>std_score_time</th>\n",
       "      <th>param_C</th>\n",
       "      <th>param_degree</th>\n",
       "      <th>param_gamma</th>\n",
       "      <th>params</th>\n",
       "      <th>split0_test_score</th>\n",
       "      <th>split1_test_score</th>\n",
       "      <th>mean_test_score</th>\n",
       "      <th>std_test_score</th>\n",
       "      <th>rank_test_score</th>\n",
       "    </tr>\n",
       "  </thead>\n",
       "  <tbody>\n",
       "    <tr>\n",
       "      <th>4</th>\n",
       "      <td>0.846237</td>\n",
       "      <td>0.111203</td>\n",
       "      <td>0.010971</td>\n",
       "      <td>0.000998</td>\n",
       "      <td>0.1</td>\n",
       "      <td>2</td>\n",
       "      <td>0.0001</td>\n",
       "      <td>{'C': 0.1, 'degree': 2, 'gamma': 0.0001}</td>\n",
       "      <td>0.782779</td>\n",
       "      <td>0.754902</td>\n",
       "      <td>0.768840</td>\n",
       "      <td>0.013938</td>\n",
       "      <td>1</td>\n",
       "    </tr>\n",
       "    <tr>\n",
       "      <th>29</th>\n",
       "      <td>2.809989</td>\n",
       "      <td>0.502159</td>\n",
       "      <td>0.009474</td>\n",
       "      <td>0.000498</td>\n",
       "      <td>1</td>\n",
       "      <td>2</td>\n",
       "      <td>0.0001</td>\n",
       "      <td>{'C': 1, 'degree': 2, 'gamma': 0.0001}</td>\n",
       "      <td>0.778865</td>\n",
       "      <td>0.711765</td>\n",
       "      <td>0.745315</td>\n",
       "      <td>0.033550</td>\n",
       "      <td>2</td>\n",
       "    </tr>\n",
       "    <tr>\n",
       "      <th>75</th>\n",
       "      <td>8.451443</td>\n",
       "      <td>0.313163</td>\n",
       "      <td>0.004987</td>\n",
       "      <td>0.000998</td>\n",
       "      <td>100</td>\n",
       "      <td>2</td>\n",
       "      <td>1</td>\n",
       "      <td>{'C': 100, 'degree': 2, 'gamma': 1}</td>\n",
       "      <td>0.610568</td>\n",
       "      <td>0.660784</td>\n",
       "      <td>0.635676</td>\n",
       "      <td>0.025108</td>\n",
       "      <td>3</td>\n",
       "    </tr>\n",
       "    <tr>\n",
       "      <th>3</th>\n",
       "      <td>7.061622</td>\n",
       "      <td>0.132146</td>\n",
       "      <td>0.008976</td>\n",
       "      <td>0.000998</td>\n",
       "      <td>0.1</td>\n",
       "      <td>2</td>\n",
       "      <td>0.001</td>\n",
       "      <td>{'C': 0.1, 'degree': 2, 'gamma': 0.001}</td>\n",
       "      <td>0.708415</td>\n",
       "      <td>0.525490</td>\n",
       "      <td>0.616953</td>\n",
       "      <td>0.091462</td>\n",
       "      <td>4</td>\n",
       "    </tr>\n",
       "    <tr>\n",
       "      <th>19</th>\n",
       "      <td>9.921514</td>\n",
       "      <td>0.040891</td>\n",
       "      <td>0.008977</td>\n",
       "      <td>0.000998</td>\n",
       "      <td>0.1</td>\n",
       "      <td>5</td>\n",
       "      <td>0.0001</td>\n",
       "      <td>{'C': 0.1, 'degree': 5, 'gamma': 0.0001}</td>\n",
       "      <td>0.649706</td>\n",
       "      <td>0.539216</td>\n",
       "      <td>0.594461</td>\n",
       "      <td>0.055245</td>\n",
       "      <td>5</td>\n",
       "    </tr>\n",
       "  </tbody>\n",
       "</table>\n",
       "</div>"
      ],
      "text/plain": [
       "    mean_fit_time  std_fit_time  mean_score_time  std_score_time param_C  \\\n",
       "4        0.846237      0.111203         0.010971        0.000998     0.1   \n",
       "29       2.809989      0.502159         0.009474        0.000498       1   \n",
       "75       8.451443      0.313163         0.004987        0.000998     100   \n",
       "3        7.061622      0.132146         0.008976        0.000998     0.1   \n",
       "19       9.921514      0.040891         0.008977        0.000998     0.1   \n",
       "\n",
       "   param_degree param_gamma                                    params  \\\n",
       "4             2      0.0001  {'C': 0.1, 'degree': 2, 'gamma': 0.0001}   \n",
       "29            2      0.0001    {'C': 1, 'degree': 2, 'gamma': 0.0001}   \n",
       "75            2           1       {'C': 100, 'degree': 2, 'gamma': 1}   \n",
       "3             2       0.001   {'C': 0.1, 'degree': 2, 'gamma': 0.001}   \n",
       "19            5      0.0001  {'C': 0.1, 'degree': 5, 'gamma': 0.0001}   \n",
       "\n",
       "    split0_test_score  split1_test_score  mean_test_score  std_test_score  \\\n",
       "4            0.782779           0.754902         0.768840        0.013938   \n",
       "29           0.778865           0.711765         0.745315        0.033550   \n",
       "75           0.610568           0.660784         0.635676        0.025108   \n",
       "3            0.708415           0.525490         0.616953        0.091462   \n",
       "19           0.649706           0.539216         0.594461        0.055245   \n",
       "\n",
       "    rank_test_score  \n",
       "4                 1  \n",
       "29                2  \n",
       "75                3  \n",
       "3                 4  \n",
       "19                5  "
      ]
     },
     "execution_count": 93,
     "metadata": {},
     "output_type": "execute_result"
    }
   ],
   "source": [
    "cv_results = pd.DataFrame(model_grid_search.cv_results_).sort_values(by='mean_test_score', ascending=False)\n",
    "cv_results.head()"
   ]
  },
  {
   "cell_type": "markdown",
   "metadata": {},
   "source": [
    "#### El mejor modelo basado en el score medio de las 2 cross validations son los que poseen los siguientes valores de parametros: \t{'C': 0.1, 'degree': 2, 'gamma': 0.0001}.  \n",
    "#### Además en el top 4 de mejores modelos se observa que el valor que no cambia son los grados de libertad, lo cual nos indica que con una potencia de 2 suele hacer mejores predicciones con kernel polinomial."
   ]
  },
  {
   "cell_type": "code",
   "execution_count": 94,
   "metadata": {},
   "outputs": [],
   "source": [
    "y_pred = model_grid_search.predict(X_test)\n",
    "cm = confusion_matrix(y_test,y_pred)"
   ]
  },
  {
   "cell_type": "code",
   "execution_count": 95,
   "metadata": {},
   "outputs": [
    {
     "name": "stdout",
     "output_type": "stream",
     "text": [
      "Matriz de confusión para detectar casas con kernel lineal\n",
      " [[107  23   3]\n",
      " [ 41 104   8]\n",
      " [  0  36 116]]\n",
      "Accuracy:  0.7465753424657534\n"
     ]
    }
   ],
   "source": [
    "accuracy=accuracy_score(y_test,y_pred)\n",
    "precision =precision_score(y_test, y_pred,average='micro')\n",
    "recall =  recall_score(y_test, y_pred,average='micro')\n",
    "f1 = f1_score(y_test,y_pred,average='micro')\n",
    "print('Matriz de confusión para detectar casas con kernel lineal\\n',cm)\n",
    "print('Accuracy: ',accuracy)"
   ]
  },
  {
   "cell_type": "code",
   "execution_count": 97,
   "metadata": {},
   "outputs": [
    {
     "name": "stdout",
     "output_type": "stream",
     "text": [
      "              precision    recall  f1-score   support\n",
      "\n",
      "           0       0.72      0.80      0.76       133\n",
      "           1       0.64      0.68      0.66       153\n",
      "           2       0.91      0.76      0.83       152\n",
      "\n",
      "    accuracy                           0.75       438\n",
      "   macro avg       0.76      0.75      0.75       438\n",
      "weighted avg       0.76      0.75      0.75       438\n",
      "\n"
     ]
    }
   ],
   "source": [
    "print(classification_report(y_test,y_pred))"
   ]
  },
  {
   "cell_type": "markdown",
   "metadata": {},
   "source": [
    "#### Este modelo posee una exactitud del 74.6% siendo levemente mayor a la del modelo con kernel lineal.   \n",
    "#### A pesar de que este tuviese un score superior (0.768) al del kernel radial, podemos observar que la exactitud es menor, esto se puede deber a que este modelo sea bastante bueno prediciendo casas caras basados en la presición y el recall, pero tiene problemas al predecir las casas de mediano precio, ya que ambos puntajes de recall y presición para casas de mediano precio son inferiores al 0.7.  \n",
    "#### Por lo que podemos decir que el modelo radial es el mejor no solo en presición si no en tener el menor número falsos positivos en todas las predicciones de las categorías en comparacion a los modelos lineal y polinómico."
   ]
  },
  {
   "cell_type": "markdown",
   "metadata": {},
   "source": [
    "## Comparación con modelos anteriores"
   ]
  },
  {
   "cell_type": "markdown",
   "metadata": {},
   "source": [
    "### Arbol de desición"
   ]
  },
  {
   "cell_type": "code",
   "execution_count": 98,
   "metadata": {},
   "outputs": [
    {
     "data": {
      "text/plain": [
       "[Text(0.6240137685643564, 0.9705882352941176, 'OverallQual <= 6.5\\ngini = 0.666\\nsamples = 1021\\nvalue = [338, 356, 327]\\nclass = Bajo'),\n",
       " Text(0.40164758663366334, 0.9117647058823529, 'OverallQual <= 5.5\\ngini = 0.559\\nsamples = 637\\nvalue = [330, 261, 46]\\nclass = Alto'),\n",
       " Text(0.25642017326732675, 0.8529411764705882, 'TotalBsmtSF <= 1050.5\\ngini = 0.429\\nsamples = 384\\nvalue = [270, 106, 8]\\nclass = Alto'),\n",
       " Text(0.1625928217821782, 0.7941176470588235, 'GrLivArea <= 1383.5\\ngini = 0.295\\nsamples = 287\\nvalue = [236, 49, 2]\\nclass = Alto'),\n",
       " Text(0.0708539603960396, 0.7352941176470589, 'GarageCars <= 1.5\\ngini = 0.175\\nsamples = 227\\nvalue = [205, 22, 0]\\nclass = Alto'),\n",
       " Text(0.04207920792079208, 0.6764705882352942, 'GrLivArea <= 1341.5\\ngini = 0.086\\nsamples = 156\\nvalue = [149, 7, 0]\\nclass = Alto'),\n",
       " Text(0.024752475247524754, 0.6176470588235294, 'TotalBsmtSF <= 982.5\\ngini = 0.041\\nsamples = 144\\nvalue = [141, 3, 0]\\nclass = Alto'),\n",
       " Text(0.01485148514851485, 0.5588235294117647, 'TotalBsmtSF <= 396.0\\ngini = 0.016\\nsamples = 124\\nvalue = [123, 1, 0]\\nclass = Alto'),\n",
       " Text(0.009900990099009901, 0.5, 'TotalBsmtSF <= 331.0\\ngini = 0.117\\nsamples = 16\\nvalue = [15, 1, 0]\\nclass = Alto'),\n",
       " Text(0.0049504950495049506, 0.4411764705882353, 'gini = 0.0\\nsamples = 15\\nvalue = [15, 0, 0]\\nclass = Alto'),\n",
       " Text(0.01485148514851485, 0.4411764705882353, 'gini = 0.0\\nsamples = 1\\nvalue = [0, 1, 0]\\nclass = Bajo'),\n",
       " Text(0.019801980198019802, 0.5, 'gini = 0.0\\nsamples = 108\\nvalue = [108, 0, 0]\\nclass = Alto'),\n",
       " Text(0.034653465346534656, 0.5588235294117647, 'GrLivArea <= 987.5\\ngini = 0.18\\nsamples = 20\\nvalue = [18, 2, 0]\\nclass = Alto'),\n",
       " Text(0.0297029702970297, 0.5, 'gini = 0.0\\nsamples = 1\\nvalue = [0, 1, 0]\\nclass = Bajo'),\n",
       " Text(0.039603960396039604, 0.5, 'GrLivArea <= 1191.5\\ngini = 0.1\\nsamples = 19\\nvalue = [18, 1, 0]\\nclass = Alto'),\n",
       " Text(0.034653465346534656, 0.4411764705882353, 'gini = 0.0\\nsamples = 18\\nvalue = [18, 0, 0]\\nclass = Alto'),\n",
       " Text(0.04455445544554455, 0.4411764705882353, 'gini = 0.0\\nsamples = 1\\nvalue = [0, 1, 0]\\nclass = Bajo'),\n",
       " Text(0.0594059405940594, 0.6176470588235294, 'TotalBsmtSF <= 952.0\\ngini = 0.444\\nsamples = 12\\nvalue = [8, 4, 0]\\nclass = Alto'),\n",
       " Text(0.054455445544554455, 0.5588235294117647, 'GrLivArea <= 1343.5\\ngini = 0.32\\nsamples = 10\\nvalue = [8, 2, 0]\\nclass = Alto'),\n",
       " Text(0.04950495049504951, 0.5, 'gini = 0.0\\nsamples = 1\\nvalue = [0, 1, 0]\\nclass = Bajo'),\n",
       " Text(0.0594059405940594, 0.5, 'GrLivArea <= 1345.0\\ngini = 0.198\\nsamples = 9\\nvalue = [8, 1, 0]\\nclass = Alto'),\n",
       " Text(0.054455445544554455, 0.4411764705882353, 'TotalBsmtSF <= 609.0\\ngini = 0.444\\nsamples = 3\\nvalue = [2, 1, 0]\\nclass = Alto'),\n",
       " Text(0.04950495049504951, 0.38235294117647056, 'gini = 0.0\\nsamples = 1\\nvalue = [1, 0, 0]\\nclass = Alto'),\n",
       " Text(0.0594059405940594, 0.38235294117647056, 'TotalBsmtSF <= 784.0\\ngini = 0.5\\nsamples = 2\\nvalue = [1, 1, 0]\\nclass = Alto'),\n",
       " Text(0.054455445544554455, 0.3235294117647059, 'gini = 0.0\\nsamples = 1\\nvalue = [0, 1, 0]\\nclass = Bajo'),\n",
       " Text(0.06435643564356436, 0.3235294117647059, 'gini = 0.0\\nsamples = 1\\nvalue = [1, 0, 0]\\nclass = Alto'),\n",
       " Text(0.06435643564356436, 0.4411764705882353, 'gini = 0.0\\nsamples = 6\\nvalue = [6, 0, 0]\\nclass = Alto'),\n",
       " Text(0.06435643564356436, 0.5588235294117647, 'gini = 0.0\\nsamples = 2\\nvalue = [0, 2, 0]\\nclass = Bajo'),\n",
       " Text(0.09962871287128713, 0.6764705882352942, 'TotalBsmtSF <= 861.0\\ngini = 0.333\\nsamples = 71\\nvalue = [56, 15, 0]\\nclass = Alto'),\n",
       " Text(0.07920792079207921, 0.6176470588235294, 'GrLivArea <= 1058.0\\ngini = 0.111\\nsamples = 34\\nvalue = [32, 2, 0]\\nclass = Alto'),\n",
       " Text(0.07425742574257425, 0.5588235294117647, 'gini = 0.0\\nsamples = 18\\nvalue = [18, 0, 0]\\nclass = Alto'),\n",
       " Text(0.08415841584158416, 0.5588235294117647, 'GrLivArea <= 1095.0\\ngini = 0.219\\nsamples = 16\\nvalue = [14, 2, 0]\\nclass = Alto'),\n",
       " Text(0.07920792079207921, 0.5, 'gini = 0.0\\nsamples = 1\\nvalue = [0, 1, 0]\\nclass = Bajo'),\n",
       " Text(0.0891089108910891, 0.5, 'GrLivArea <= 1273.0\\ngini = 0.124\\nsamples = 15\\nvalue = [14, 1, 0]\\nclass = Alto'),\n",
       " Text(0.08415841584158416, 0.4411764705882353, 'GrLivArea <= 1240.0\\ngini = 0.245\\nsamples = 7\\nvalue = [6, 1, 0]\\nclass = Alto'),\n",
       " Text(0.07920792079207921, 0.38235294117647056, 'gini = 0.0\\nsamples = 6\\nvalue = [6, 0, 0]\\nclass = Alto'),\n",
       " Text(0.0891089108910891, 0.38235294117647056, 'gini = 0.0\\nsamples = 1\\nvalue = [0, 1, 0]\\nclass = Bajo'),\n",
       " Text(0.09405940594059406, 0.4411764705882353, 'gini = 0.0\\nsamples = 8\\nvalue = [8, 0, 0]\\nclass = Alto'),\n",
       " Text(0.12004950495049505, 0.6176470588235294, 'OverallQual <= 4.5\\ngini = 0.456\\nsamples = 37\\nvalue = [24, 13, 0]\\nclass = Alto'),\n",
       " Text(0.10396039603960396, 0.5588235294117647, 'GrLivArea <= 879.0\\ngini = 0.165\\nsamples = 11\\nvalue = [10, 1, 0]\\nclass = Alto'),\n",
       " Text(0.09900990099009901, 0.5, 'gini = 0.375\\nsamples = 4\\nvalue = [3, 1, 0]\\nclass = Alto'),\n",
       " Text(0.10891089108910891, 0.5, 'gini = 0.0\\nsamples = 7\\nvalue = [7, 0, 0]\\nclass = Alto'),\n",
       " Text(0.13613861386138615, 0.5588235294117647, 'GrLivArea <= 1034.0\\ngini = 0.497\\nsamples = 26\\nvalue = [14, 12, 0]\\nclass = Alto'),\n",
       " Text(0.1188118811881188, 0.5, 'GrLivArea <= 907.0\\ngini = 0.455\\nsamples = 20\\nvalue = [13, 7, 0]\\nclass = Alto'),\n",
       " Text(0.10891089108910891, 0.4411764705882353, 'TotalBsmtSF <= 888.0\\ngini = 0.245\\nsamples = 7\\nvalue = [6, 1, 0]\\nclass = Alto'),\n",
       " Text(0.10396039603960396, 0.38235294117647056, 'gini = 0.0\\nsamples = 2\\nvalue = [2, 0, 0]\\nclass = Alto'),\n",
       " Text(0.11386138613861387, 0.38235294117647056, 'TotalBsmtSF <= 897.0\\ngini = 0.32\\nsamples = 5\\nvalue = [4, 1, 0]\\nclass = Alto'),\n",
       " Text(0.10891089108910891, 0.3235294117647059, 'gini = 0.375\\nsamples = 4\\nvalue = [3, 1, 0]\\nclass = Alto'),\n",
       " Text(0.1188118811881188, 0.3235294117647059, 'gini = 0.0\\nsamples = 1\\nvalue = [1, 0, 0]\\nclass = Alto'),\n",
       " Text(0.12871287128712872, 0.4411764705882353, 'GrLivArea <= 953.0\\ngini = 0.497\\nsamples = 13\\nvalue = [7, 6, 0]\\nclass = Alto'),\n",
       " Text(0.12376237623762376, 0.38235294117647056, 'gini = 0.0\\nsamples = 3\\nvalue = [0, 3, 0]\\nclass = Bajo'),\n",
       " Text(0.13366336633663367, 0.38235294117647056, 'TotalBsmtSF <= 893.5\\ngini = 0.42\\nsamples = 10\\nvalue = [7, 3, 0]\\nclass = Alto'),\n",
       " Text(0.12871287128712872, 0.3235294117647059, 'gini = 0.0\\nsamples = 1\\nvalue = [0, 1, 0]\\nclass = Bajo'),\n",
       " Text(0.13861386138613863, 0.3235294117647059, 'TotalBsmtSF <= 989.0\\ngini = 0.346\\nsamples = 9\\nvalue = [7, 2, 0]\\nclass = Alto'),\n",
       " Text(0.13366336633663367, 0.2647058823529412, 'gini = 0.0\\nsamples = 5\\nvalue = [5, 0, 0]\\nclass = Alto'),\n",
       " Text(0.14356435643564355, 0.2647058823529412, 'GrLivArea <= 1009.0\\ngini = 0.5\\nsamples = 4\\nvalue = [2, 2, 0]\\nclass = Alto'),\n",
       " Text(0.13861386138613863, 0.20588235294117646, 'gini = 0.444\\nsamples = 3\\nvalue = [1, 2, 0]\\nclass = Bajo'),\n",
       " Text(0.1485148514851485, 0.20588235294117646, 'gini = 0.0\\nsamples = 1\\nvalue = [1, 0, 0]\\nclass = Alto'),\n",
       " Text(0.15346534653465346, 0.5, 'GrLivArea <= 1073.0\\ngini = 0.278\\nsamples = 6\\nvalue = [1, 5, 0]\\nclass = Bajo'),\n",
       " Text(0.1485148514851485, 0.4411764705882353, 'GrLivArea <= 1050.0\\ngini = 0.444\\nsamples = 3\\nvalue = [1, 2, 0]\\nclass = Bajo'),\n",
       " Text(0.14356435643564355, 0.38235294117647056, 'gini = 0.0\\nsamples = 2\\nvalue = [0, 2, 0]\\nclass = Bajo'),\n",
       " Text(0.15346534653465346, 0.38235294117647056, 'gini = 0.0\\nsamples = 1\\nvalue = [1, 0, 0]\\nclass = Alto'),\n",
       " Text(0.15841584158415842, 0.4411764705882353, 'gini = 0.0\\nsamples = 3\\nvalue = [0, 3, 0]\\nclass = Bajo'),\n",
       " Text(0.25433168316831684, 0.7352941176470589, 'GrLivArea <= 1983.0\\ngini = 0.529\\nsamples = 60\\nvalue = [31, 27, 2]\\nclass = Alto'),\n",
       " Text(0.23143564356435645, 0.6764705882352942, 'TotalBsmtSF <= 919.0\\ngini = 0.499\\nsamples = 49\\nvalue = [29, 19, 1]\\nclass = Alto'),\n",
       " Text(0.21534653465346534, 0.6176470588235294, 'TotalBsmtSF <= 852.0\\ngini = 0.524\\nsamples = 37\\nvalue = [19, 17, 1]\\nclass = Alto'),\n",
       " Text(0.19801980198019803, 0.5588235294117647, 'TotalBsmtSF <= 751.0\\ngini = 0.512\\nsamples = 31\\nvalue = [18, 12, 1]\\nclass = Alto'),\n",
       " Text(0.1782178217821782, 0.5, 'TotalBsmtSF <= 312.0\\ngini = 0.545\\nsamples = 20\\nvalue = [9, 10, 1]\\nclass = Bajo'),\n",
       " Text(0.16831683168316833, 0.4411764705882353, 'OverallQual <= 3.5\\ngini = 0.32\\nsamples = 5\\nvalue = [4, 1, 0]\\nclass = Alto'),\n",
       " Text(0.16336633663366337, 0.38235294117647056, 'gini = 0.0\\nsamples = 1\\nvalue = [0, 1, 0]\\nclass = Bajo'),\n",
       " Text(0.17326732673267325, 0.38235294117647056, 'gini = 0.0\\nsamples = 4\\nvalue = [4, 0, 0]\\nclass = Alto'),\n",
       " Text(0.18811881188118812, 0.4411764705882353, 'TotalBsmtSF <= 536.5\\ngini = 0.524\\nsamples = 15\\nvalue = [5, 9, 1]\\nclass = Bajo'),\n",
       " Text(0.18316831683168316, 0.38235294117647056, 'gini = 0.0\\nsamples = 4\\nvalue = [0, 4, 0]\\nclass = Bajo'),\n",
       " Text(0.19306930693069307, 0.38235294117647056, 'TotalBsmtSF <= 673.0\\ngini = 0.579\\nsamples = 11\\nvalue = [5, 5, 1]\\nclass = Alto'),\n",
       " Text(0.18811881188118812, 0.3235294117647059, 'gini = 0.0\\nsamples = 2\\nvalue = [2, 0, 0]\\nclass = Alto'),\n",
       " Text(0.19801980198019803, 0.3235294117647059, 'GrLivArea <= 1558.0\\ngini = 0.568\\nsamples = 9\\nvalue = [3, 5, 1]\\nclass = Bajo'),\n",
       " Text(0.19306930693069307, 0.2647058823529412, 'gini = 0.0\\nsamples = 1\\nvalue = [1, 0, 0]\\nclass = Alto'),\n",
       " Text(0.20297029702970298, 0.2647058823529412, 'OverallQual <= 4.5\\ngini = 0.531\\nsamples = 8\\nvalue = [2, 5, 1]\\nclass = Bajo'),\n",
       " Text(0.19801980198019803, 0.20588235294117646, 'gini = 0.0\\nsamples = 1\\nvalue = [1, 0, 0]\\nclass = Alto'),\n",
       " Text(0.2079207920792079, 0.20588235294117646, 'GrLivArea <= 1776.0\\ngini = 0.449\\nsamples = 7\\nvalue = [1, 5, 1]\\nclass = Bajo'),\n",
       " Text(0.20297029702970298, 0.14705882352941177, 'gini = 0.0\\nsamples = 4\\nvalue = [0, 4, 0]\\nclass = Bajo'),\n",
       " Text(0.21287128712871287, 0.14705882352941177, 'GarageCars <= 0.5\\ngini = 0.667\\nsamples = 3\\nvalue = [1, 1, 1]\\nclass = Alto'),\n",
       " Text(0.2079207920792079, 0.08823529411764706, 'gini = 0.0\\nsamples = 1\\nvalue = [0, 1, 0]\\nclass = Bajo'),\n",
       " Text(0.21782178217821782, 0.08823529411764706, 'GarageCars <= 1.5\\ngini = 0.5\\nsamples = 2\\nvalue = [1, 0, 1]\\nclass = Alto'),\n",
       " Text(0.21287128712871287, 0.029411764705882353, 'gini = 0.0\\nsamples = 1\\nvalue = [1, 0, 0]\\nclass = Alto'),\n",
       " Text(0.22277227722772278, 0.029411764705882353, 'gini = 0.0\\nsamples = 1\\nvalue = [0, 0, 1]\\nclass = Medio'),\n",
       " Text(0.21782178217821782, 0.5, 'GarageCars <= 1.5\\ngini = 0.298\\nsamples = 11\\nvalue = [9, 2, 0]\\nclass = Alto'),\n",
       " Text(0.2079207920792079, 0.4411764705882353, 'GrLivArea <= 1518.5\\ngini = 0.198\\nsamples = 9\\nvalue = [8, 1, 0]\\nclass = Alto'),\n",
       " Text(0.20297029702970298, 0.38235294117647056, 'gini = 0.0\\nsamples = 5\\nvalue = [5, 0, 0]\\nclass = Alto'),\n",
       " Text(0.21287128712871287, 0.38235294117647056, 'GrLivArea <= 1562.5\\ngini = 0.375\\nsamples = 4\\nvalue = [3, 1, 0]\\nclass = Alto'),\n",
       " Text(0.2079207920792079, 0.3235294117647059, 'gini = 0.0\\nsamples = 1\\nvalue = [0, 1, 0]\\nclass = Bajo'),\n",
       " Text(0.21782178217821782, 0.3235294117647059, 'gini = 0.0\\nsamples = 3\\nvalue = [3, 0, 0]\\nclass = Alto'),\n",
       " Text(0.22772277227722773, 0.4411764705882353, 'GrLivArea <= 1441.0\\ngini = 0.5\\nsamples = 2\\nvalue = [1, 1, 0]\\nclass = Alto'),\n",
       " Text(0.22277227722772278, 0.38235294117647056, 'gini = 0.0\\nsamples = 1\\nvalue = [1, 0, 0]\\nclass = Alto'),\n",
       " Text(0.23267326732673269, 0.38235294117647056, 'gini = 0.0\\nsamples = 1\\nvalue = [0, 1, 0]\\nclass = Bajo'),\n",
       " Text(0.23267326732673269, 0.5588235294117647, 'GarageCars <= 0.5\\ngini = 0.278\\nsamples = 6\\nvalue = [1, 5, 0]\\nclass = Bajo'),\n",
       " Text(0.22772277227722773, 0.5, 'gini = 0.0\\nsamples = 1\\nvalue = [1, 0, 0]\\nclass = Alto'),\n",
       " Text(0.2376237623762376, 0.5, 'gini = 0.0\\nsamples = 5\\nvalue = [0, 5, 0]\\nclass = Bajo'),\n",
       " Text(0.24752475247524752, 0.6176470588235294, 'GrLivArea <= 1467.5\\ngini = 0.278\\nsamples = 12\\nvalue = [10, 2, 0]\\nclass = Alto'),\n",
       " Text(0.24257425742574257, 0.5588235294117647, 'gini = 0.0\\nsamples = 1\\nvalue = [0, 1, 0]\\nclass = Bajo'),\n",
       " Text(0.2524752475247525, 0.5588235294117647, 'TotalBsmtSF <= 1034.0\\ngini = 0.165\\nsamples = 11\\nvalue = [10, 1, 0]\\nclass = Alto'),\n",
       " Text(0.24752475247524752, 0.5, 'gini = 0.0\\nsamples = 9\\nvalue = [9, 0, 0]\\nclass = Alto'),\n",
       " Text(0.25742574257425743, 0.5, 'TotalBsmtSF <= 1046.0\\ngini = 0.5\\nsamples = 2\\nvalue = [1, 1, 0]\\nclass = Alto'),\n",
       " Text(0.2524752475247525, 0.4411764705882353, 'gini = 0.0\\nsamples = 1\\nvalue = [0, 1, 0]\\nclass = Bajo'),\n",
       " Text(0.2623762376237624, 0.4411764705882353, 'gini = 0.0\\nsamples = 1\\nvalue = [1, 0, 0]\\nclass = Alto'),\n",
       " Text(0.27722772277227725, 0.6764705882352942, 'OverallQual <= 4.5\\ngini = 0.43\\nsamples = 11\\nvalue = [2, 8, 1]\\nclass = Bajo'),\n",
       " Text(0.2722772277227723, 0.6176470588235294, 'gini = 0.0\\nsamples = 1\\nvalue = [1, 0, 0]\\nclass = Alto'),\n",
       " Text(0.28217821782178215, 0.6176470588235294, 'GrLivArea <= 2014.0\\ngini = 0.34\\nsamples = 10\\nvalue = [1, 8, 1]\\nclass = Bajo'),\n",
       " Text(0.2722772277227723, 0.5588235294117647, 'TotalBsmtSF <= 948.5\\ngini = 0.5\\nsamples = 2\\nvalue = [0, 1, 1]\\nclass = Bajo'),\n",
       " Text(0.26732673267326734, 0.5, 'gini = 0.0\\nsamples = 1\\nvalue = [0, 0, 1]\\nclass = Medio'),\n",
       " Text(0.27722772277227725, 0.5, 'gini = 0.0\\nsamples = 1\\nvalue = [0, 1, 0]\\nclass = Bajo'),\n",
       " Text(0.29207920792079206, 0.5588235294117647, 'GrLivArea <= 2328.5\\ngini = 0.219\\nsamples = 8\\nvalue = [1, 7, 0]\\nclass = Bajo'),\n",
       " Text(0.2871287128712871, 0.5, 'gini = 0.0\\nsamples = 5\\nvalue = [0, 5, 0]\\nclass = Bajo'),\n",
       " Text(0.297029702970297, 0.5, 'GrLivArea <= 2375.5\\ngini = 0.444\\nsamples = 3\\nvalue = [1, 2, 0]\\nclass = Bajo'),\n",
       " Text(0.29207920792079206, 0.4411764705882353, 'gini = 0.0\\nsamples = 1\\nvalue = [1, 0, 0]\\nclass = Alto'),\n",
       " Text(0.30198019801980197, 0.4411764705882353, 'gini = 0.0\\nsamples = 2\\nvalue = [0, 2, 0]\\nclass = Bajo'),\n",
       " Text(0.3502475247524752, 0.7941176470588235, 'OverallQual <= 4.5\\ngini = 0.528\\nsamples = 97\\nvalue = [34, 57, 6]\\nclass = Bajo'),\n",
       " Text(0.3217821782178218, 0.7352941176470589, 'GrLivArea <= 1349.0\\ngini = 0.426\\nsamples = 13\\nvalue = [9, 4, 0]\\nclass = Alto'),\n",
       " Text(0.3118811881188119, 0.6764705882352942, 'TotalBsmtSF <= 1117.0\\ngini = 0.219\\nsamples = 8\\nvalue = [7, 1, 0]\\nclass = Alto'),\n",
       " Text(0.3069306930693069, 0.6176470588235294, 'TotalBsmtSF <= 1083.5\\ngini = 0.444\\nsamples = 3\\nvalue = [2, 1, 0]\\nclass = Alto'),\n",
       " Text(0.30198019801980197, 0.5588235294117647, 'gini = 0.0\\nsamples = 2\\nvalue = [2, 0, 0]\\nclass = Alto'),\n",
       " Text(0.3118811881188119, 0.5588235294117647, 'gini = 0.0\\nsamples = 1\\nvalue = [0, 1, 0]\\nclass = Bajo'),\n",
       " Text(0.31683168316831684, 0.6176470588235294, 'gini = 0.0\\nsamples = 5\\nvalue = [5, 0, 0]\\nclass = Alto'),\n",
       " Text(0.3316831683168317, 0.6764705882352942, 'GrLivArea <= 1884.5\\ngini = 0.48\\nsamples = 5\\nvalue = [2, 3, 0]\\nclass = Bajo'),\n",
       " Text(0.32673267326732675, 0.6176470588235294, 'TotalBsmtSF <= 1360.5\\ngini = 0.375\\nsamples = 4\\nvalue = [1, 3, 0]\\nclass = Bajo'),\n",
       " Text(0.3217821782178218, 0.5588235294117647, 'gini = 0.0\\nsamples = 2\\nvalue = [0, 2, 0]\\nclass = Bajo'),\n",
       " Text(0.3316831683168317, 0.5588235294117647, 'gini = 0.5\\nsamples = 2\\nvalue = [1, 1, 0]\\nclass = Alto'),\n",
       " Text(0.33663366336633666, 0.6176470588235294, 'gini = 0.0\\nsamples = 1\\nvalue = [1, 0, 0]\\nclass = Alto'),\n",
       " Text(0.3787128712871287, 0.7352941176470589, 'GrLivArea <= 2627.0\\ngini = 0.508\\nsamples = 84\\nvalue = [25, 53, 6]\\nclass = Bajo'),\n",
       " Text(0.37376237623762376, 0.6764705882352942, 'TotalBsmtSF <= 1149.0\\ngini = 0.487\\nsamples = 82\\nvalue = [25, 53, 4]\\nclass = Bajo'),\n",
       " Text(0.3465346534653465, 0.6176470588235294, 'TotalBsmtSF <= 1137.0\\ngini = 0.488\\nsamples = 38\\nvalue = [16, 22, 0]\\nclass = Bajo'),\n",
       " Text(0.3415841584158416, 0.5588235294117647, 'GrLivArea <= 1174.5\\ngini = 0.444\\nsamples = 33\\nvalue = [11, 22, 0]\\nclass = Bajo'),\n",
       " Text(0.3292079207920792, 0.5, 'GrLivArea <= 1052.5\\ngini = 0.351\\nsamples = 22\\nvalue = [5, 17, 0]\\nclass = Bajo'),\n",
       " Text(0.32425742574257427, 0.4411764705882353, 'gini = 0.0\\nsamples = 1\\nvalue = [1, 0, 0]\\nclass = Alto'),\n",
       " Text(0.3341584158415842, 0.4411764705882353, 'TotalBsmtSF <= 1056.5\\ngini = 0.308\\nsamples = 21\\nvalue = [4, 17, 0]\\nclass = Bajo'),\n",
       " Text(0.3292079207920792, 0.38235294117647056, 'gini = 0.0\\nsamples = 7\\nvalue = [0, 7, 0]\\nclass = Bajo'),\n",
       " Text(0.33910891089108913, 0.38235294117647056, 'GrLivArea <= 1075.5\\ngini = 0.408\\nsamples = 14\\nvalue = [4, 10, 0]\\nclass = Bajo'),\n",
       " Text(0.3292079207920792, 0.3235294117647059, 'GrLivArea <= 1058.5\\ngini = 0.375\\nsamples = 4\\nvalue = [3, 1, 0]\\nclass = Alto'),\n",
       " Text(0.32425742574257427, 0.2647058823529412, 'gini = 0.0\\nsamples = 2\\nvalue = [2, 0, 0]\\nclass = Alto'),\n",
       " Text(0.3341584158415842, 0.2647058823529412, 'TotalBsmtSF <= 1066.5\\ngini = 0.5\\nsamples = 2\\nvalue = [1, 1, 0]\\nclass = Alto'),\n",
       " Text(0.3292079207920792, 0.20588235294117646, 'gini = 0.0\\nsamples = 1\\nvalue = [0, 1, 0]\\nclass = Bajo'),\n",
       " Text(0.33910891089108913, 0.20588235294117646, 'gini = 0.0\\nsamples = 1\\nvalue = [1, 0, 0]\\nclass = Alto'),\n",
       " Text(0.349009900990099, 0.3235294117647059, 'GrLivArea <= 1127.5\\ngini = 0.18\\nsamples = 10\\nvalue = [1, 9, 0]\\nclass = Bajo'),\n",
       " Text(0.34405940594059403, 0.2647058823529412, 'gini = 0.0\\nsamples = 8\\nvalue = [0, 8, 0]\\nclass = Bajo'),\n",
       " Text(0.35396039603960394, 0.2647058823529412, 'GrLivArea <= 1142.5\\ngini = 0.5\\nsamples = 2\\nvalue = [1, 1, 0]\\nclass = Alto'),\n",
       " Text(0.349009900990099, 0.20588235294117646, 'gini = 0.0\\nsamples = 1\\nvalue = [1, 0, 0]\\nclass = Alto'),\n",
       " Text(0.3589108910891089, 0.20588235294117646, 'gini = 0.0\\nsamples = 1\\nvalue = [0, 1, 0]\\nclass = Bajo'),\n",
       " Text(0.35396039603960394, 0.5, 'GarageCars <= 1.5\\ngini = 0.496\\nsamples = 11\\nvalue = [6, 5, 0]\\nclass = Alto'),\n",
       " Text(0.349009900990099, 0.4411764705882353, 'gini = 0.0\\nsamples = 4\\nvalue = [4, 0, 0]\\nclass = Alto'),\n",
       " Text(0.3589108910891089, 0.4411764705882353, 'GrLivArea <= 1238.5\\ngini = 0.408\\nsamples = 7\\nvalue = [2, 5, 0]\\nclass = Bajo'),\n",
       " Text(0.35396039603960394, 0.38235294117647056, 'gini = 0.0\\nsamples = 1\\nvalue = [1, 0, 0]\\nclass = Alto'),\n",
       " Text(0.36386138613861385, 0.38235294117647056, 'GrLivArea <= 1836.0\\ngini = 0.278\\nsamples = 6\\nvalue = [1, 5, 0]\\nclass = Bajo'),\n",
       " Text(0.3589108910891089, 0.3235294117647059, 'gini = 0.0\\nsamples = 4\\nvalue = [0, 4, 0]\\nclass = Bajo'),\n",
       " Text(0.3688118811881188, 0.3235294117647059, 'GrLivArea <= 2071.5\\ngini = 0.5\\nsamples = 2\\nvalue = [1, 1, 0]\\nclass = Alto'),\n",
       " Text(0.36386138613861385, 0.2647058823529412, 'gini = 0.0\\nsamples = 1\\nvalue = [1, 0, 0]\\nclass = Alto'),\n",
       " Text(0.37376237623762376, 0.2647058823529412, 'gini = 0.0\\nsamples = 1\\nvalue = [0, 1, 0]\\nclass = Bajo'),\n",
       " Text(0.35148514851485146, 0.5588235294117647, 'gini = 0.0\\nsamples = 5\\nvalue = [5, 0, 0]\\nclass = Alto'),\n",
       " Text(0.400990099009901, 0.6176470588235294, 'GrLivArea <= 1390.5\\ngini = 0.454\\nsamples = 44\\nvalue = [9, 31, 4]\\nclass = Bajo'),\n",
       " Text(0.3886138613861386, 0.5588235294117647, 'GrLivArea <= 1268.5\\ngini = 0.208\\nsamples = 17\\nvalue = [2, 15, 0]\\nclass = Bajo'),\n",
       " Text(0.38366336633663367, 0.5, 'GrLivArea <= 1266.0\\ngini = 0.346\\nsamples = 9\\nvalue = [2, 7, 0]\\nclass = Bajo'),\n",
       " Text(0.3787128712871287, 0.4411764705882353, 'GrLivArea <= 1211.5\\ngini = 0.219\\nsamples = 8\\nvalue = [1, 7, 0]\\nclass = Bajo'),\n",
       " Text(0.37376237623762376, 0.38235294117647056, 'gini = 0.0\\nsamples = 5\\nvalue = [0, 5, 0]\\nclass = Bajo'),\n",
       " Text(0.38366336633663367, 0.38235294117647056, 'TotalBsmtSF <= 1245.5\\ngini = 0.444\\nsamples = 3\\nvalue = [1, 2, 0]\\nclass = Bajo'),\n",
       " Text(0.3787128712871287, 0.3235294117647059, 'gini = 0.0\\nsamples = 1\\nvalue = [1, 0, 0]\\nclass = Alto'),\n",
       " Text(0.3886138613861386, 0.3235294117647059, 'gini = 0.0\\nsamples = 2\\nvalue = [0, 2, 0]\\nclass = Bajo'),\n",
       " Text(0.3886138613861386, 0.4411764705882353, 'gini = 0.0\\nsamples = 1\\nvalue = [1, 0, 0]\\nclass = Alto'),\n",
       " Text(0.3935643564356436, 0.5, 'gini = 0.0\\nsamples = 8\\nvalue = [0, 8, 0]\\nclass = Bajo'),\n",
       " Text(0.41336633663366334, 0.5588235294117647, 'GrLivArea <= 1451.5\\ngini = 0.56\\nsamples = 27\\nvalue = [7, 16, 4]\\nclass = Bajo'),\n",
       " Text(0.4034653465346535, 0.5, 'GrLivArea <= 1412.0\\ngini = 0.444\\nsamples = 3\\nvalue = [1, 0, 2]\\nclass = Medio'),\n",
       " Text(0.39851485148514854, 0.4411764705882353, 'gini = 0.0\\nsamples = 1\\nvalue = [1, 0, 0]\\nclass = Alto'),\n",
       " Text(0.4084158415841584, 0.4411764705882353, 'gini = 0.0\\nsamples = 2\\nvalue = [0, 0, 2]\\nclass = Medio'),\n",
       " Text(0.42326732673267325, 0.5, 'GrLivArea <= 1574.0\\ngini = 0.486\\nsamples = 24\\nvalue = [6, 16, 2]\\nclass = Bajo'),\n",
       " Text(0.4183168316831683, 0.4411764705882353, 'gini = 0.0\\nsamples = 6\\nvalue = [0, 6, 0]\\nclass = Bajo'),\n",
       " Text(0.4282178217821782, 0.4411764705882353, 'GarageCars <= 2.5\\ngini = 0.568\\nsamples = 18\\nvalue = [6, 10, 2]\\nclass = Bajo'),\n",
       " Text(0.42326732673267325, 0.38235294117647056, 'GrLivArea <= 1579.0\\ngini = 0.531\\nsamples = 16\\nvalue = [4, 10, 2]\\nclass = Bajo'),\n",
       " Text(0.4183168316831683, 0.3235294117647059, 'gini = 0.0\\nsamples = 1\\nvalue = [0, 0, 1]\\nclass = Medio'),\n",
       " Text(0.4282178217821782, 0.3235294117647059, 'TotalBsmtSF <= 1240.0\\ngini = 0.48\\nsamples = 15\\nvalue = [4, 10, 1]\\nclass = Bajo'),\n",
       " Text(0.42326732673267325, 0.2647058823529412, 'gini = 0.0\\nsamples = 1\\nvalue = [1, 0, 0]\\nclass = Alto'),\n",
       " Text(0.43316831683168316, 0.2647058823529412, 'TotalBsmtSF <= 1656.0\\ngini = 0.439\\nsamples = 14\\nvalue = [3, 10, 1]\\nclass = Bajo'),\n",
       " Text(0.42326732673267325, 0.20588235294117646, 'GrLivArea <= 1749.0\\ngini = 0.219\\nsamples = 8\\nvalue = [0, 7, 1]\\nclass = Bajo'),\n",
       " Text(0.4183168316831683, 0.14705882352941177, 'gini = 0.0\\nsamples = 4\\nvalue = [0, 4, 0]\\nclass = Bajo'),\n",
       " Text(0.4282178217821782, 0.14705882352941177, 'GrLivArea <= 1826.5\\ngini = 0.375\\nsamples = 4\\nvalue = [0, 3, 1]\\nclass = Bajo'),\n",
       " Text(0.42326732673267325, 0.08823529411764706, 'gini = 0.0\\nsamples = 1\\nvalue = [0, 0, 1]\\nclass = Medio'),\n",
       " Text(0.43316831683168316, 0.08823529411764706, 'gini = 0.0\\nsamples = 3\\nvalue = [0, 3, 0]\\nclass = Bajo'),\n",
       " Text(0.4430693069306931, 0.20588235294117646, 'TotalBsmtSF <= 1704.0\\ngini = 0.5\\nsamples = 6\\nvalue = [3, 3, 0]\\nclass = Alto'),\n",
       " Text(0.4381188118811881, 0.14705882352941177, 'gini = 0.0\\nsamples = 1\\nvalue = [1, 0, 0]\\nclass = Alto'),\n",
       " Text(0.44801980198019803, 0.14705882352941177, 'TotalBsmtSF <= 1764.0\\ngini = 0.48\\nsamples = 5\\nvalue = [2, 3, 0]\\nclass = Bajo'),\n",
       " Text(0.4430693069306931, 0.08823529411764706, 'GarageCars <= 1.5\\ngini = 0.5\\nsamples = 4\\nvalue = [2, 2, 0]\\nclass = Alto'),\n",
       " Text(0.4381188118811881, 0.029411764705882353, 'gini = 0.0\\nsamples = 1\\nvalue = [1, 0, 0]\\nclass = Alto'),\n",
       " Text(0.44801980198019803, 0.029411764705882353, 'gini = 0.444\\nsamples = 3\\nvalue = [1, 2, 0]\\nclass = Bajo'),\n",
       " Text(0.452970297029703, 0.08823529411764706, 'gini = 0.0\\nsamples = 1\\nvalue = [0, 1, 0]\\nclass = Bajo'),\n",
       " Text(0.43316831683168316, 0.38235294117647056, 'gini = 0.0\\nsamples = 2\\nvalue = [2, 0, 0]\\nclass = Alto'),\n",
       " Text(0.38366336633663367, 0.6764705882352942, 'gini = 0.0\\nsamples = 2\\nvalue = [0, 0, 2]\\nclass = Medio'),\n",
       " Text(0.546875, 0.8529411764705882, 'GarageCars <= 1.5\\ngini = 0.546\\nsamples = 253\\nvalue = [60, 155, 38]\\nclass = Bajo'),\n",
       " Text(0.4801980198019802, 0.7941176470588235, 'TotalBsmtSF <= 1086.0\\ngini = 0.53\\nsamples = 71\\nvalue = [39, 29, 3]\\nclass = Alto'),\n",
       " Text(0.4628712871287129, 0.7352941176470589, 'GrLivArea <= 1331.0\\ngini = 0.461\\nsamples = 58\\nvalue = [39, 17, 2]\\nclass = Alto'),\n",
       " Text(0.4430693069306931, 0.6764705882352942, 'TotalBsmtSF <= 1050.0\\ngini = 0.128\\nsamples = 29\\nvalue = [27, 2, 0]\\nclass = Alto'),\n",
       " Text(0.43316831683168316, 0.6176470588235294, 'GrLivArea <= 1131.5\\ngini = 0.071\\nsamples = 27\\nvalue = [26, 1, 0]\\nclass = Alto'),\n",
       " Text(0.4282178217821782, 0.5588235294117647, 'gini = 0.0\\nsamples = 19\\nvalue = [19, 0, 0]\\nclass = Alto'),\n",
       " Text(0.4381188118811881, 0.5588235294117647, 'GrLivArea <= 1177.5\\ngini = 0.219\\nsamples = 8\\nvalue = [7, 1, 0]\\nclass = Alto'),\n",
       " Text(0.43316831683168316, 0.5, 'gini = 0.0\\nsamples = 1\\nvalue = [0, 1, 0]\\nclass = Bajo'),\n",
       " Text(0.4430693069306931, 0.5, 'gini = 0.0\\nsamples = 7\\nvalue = [7, 0, 0]\\nclass = Alto'),\n",
       " Text(0.452970297029703, 0.6176470588235294, 'TotalBsmtSF <= 1069.5\\ngini = 0.5\\nsamples = 2\\nvalue = [1, 1, 0]\\nclass = Alto'),\n",
       " Text(0.44801980198019803, 0.5588235294117647, 'gini = 0.0\\nsamples = 1\\nvalue = [0, 1, 0]\\nclass = Bajo'),\n",
       " Text(0.45792079207920794, 0.5588235294117647, 'gini = 0.0\\nsamples = 1\\nvalue = [1, 0, 0]\\nclass = Alto'),\n",
       " Text(0.48267326732673266, 0.6764705882352942, 'GrLivArea <= 1994.0\\ngini = 0.556\\nsamples = 29\\nvalue = [12, 15, 2]\\nclass = Bajo'),\n",
       " Text(0.47277227722772275, 0.6176470588235294, 'GrLivArea <= 1653.5\\ngini = 0.476\\nsamples = 23\\nvalue = [9, 14, 0]\\nclass = Bajo'),\n",
       " Text(0.46782178217821785, 0.5588235294117647, 'GrLivArea <= 1601.5\\ngini = 0.5\\nsamples = 18\\nvalue = [9, 9, 0]\\nclass = Alto'),\n",
       " Text(0.4628712871287129, 0.5, 'GrLivArea <= 1488.0\\ngini = 0.48\\nsamples = 15\\nvalue = [6, 9, 0]\\nclass = Bajo'),\n",
       " Text(0.45792079207920794, 0.4411764705882353, 'GrLivArea <= 1404.0\\ngini = 0.496\\nsamples = 11\\nvalue = [6, 5, 0]\\nclass = Alto'),\n",
       " Text(0.452970297029703, 0.38235294117647056, 'TotalBsmtSF <= 686.5\\ngini = 0.408\\nsamples = 7\\nvalue = [2, 5, 0]\\nclass = Bajo'),\n",
       " Text(0.44801980198019803, 0.3235294117647059, 'TotalBsmtSF <= 667.5\\ngini = 0.444\\nsamples = 3\\nvalue = [2, 1, 0]\\nclass = Alto'),\n",
       " Text(0.4430693069306931, 0.2647058823529412, 'gini = 0.0\\nsamples = 1\\nvalue = [0, 1, 0]\\nclass = Bajo'),\n",
       " Text(0.452970297029703, 0.2647058823529412, 'gini = 0.0\\nsamples = 2\\nvalue = [2, 0, 0]\\nclass = Alto'),\n",
       " Text(0.45792079207920794, 0.3235294117647059, 'gini = 0.0\\nsamples = 4\\nvalue = [0, 4, 0]\\nclass = Bajo'),\n",
       " Text(0.4628712871287129, 0.38235294117647056, 'gini = 0.0\\nsamples = 4\\nvalue = [4, 0, 0]\\nclass = Alto'),\n",
       " Text(0.46782178217821785, 0.4411764705882353, 'gini = 0.0\\nsamples = 4\\nvalue = [0, 4, 0]\\nclass = Bajo'),\n",
       " Text(0.47277227722772275, 0.5, 'gini = 0.0\\nsamples = 3\\nvalue = [3, 0, 0]\\nclass = Alto'),\n",
       " Text(0.4777227722772277, 0.5588235294117647, 'gini = 0.0\\nsamples = 5\\nvalue = [0, 5, 0]\\nclass = Bajo'),\n",
       " Text(0.49257425742574257, 0.6176470588235294, 'TotalBsmtSF <= 779.5\\ngini = 0.611\\nsamples = 6\\nvalue = [3, 1, 2]\\nclass = Alto'),\n",
       " Text(0.4876237623762376, 0.5588235294117647, 'gini = 0.0\\nsamples = 2\\nvalue = [2, 0, 0]\\nclass = Alto'),\n",
       " Text(0.4975247524752475, 0.5588235294117647, 'TotalBsmtSF <= 850.0\\ngini = 0.625\\nsamples = 4\\nvalue = [1, 1, 2]\\nclass = Medio'),\n",
       " Text(0.49257425742574257, 0.5, 'gini = 0.0\\nsamples = 1\\nvalue = [0, 1, 0]\\nclass = Bajo'),\n",
       " Text(0.5024752475247525, 0.5, 'TotalBsmtSF <= 952.0\\ngini = 0.444\\nsamples = 3\\nvalue = [1, 0, 2]\\nclass = Medio'),\n",
       " Text(0.4975247524752475, 0.4411764705882353, 'gini = 0.0\\nsamples = 1\\nvalue = [0, 0, 1]\\nclass = Medio'),\n",
       " Text(0.5074257425742574, 0.4411764705882353, 'GrLivArea <= 2265.0\\ngini = 0.5\\nsamples = 2\\nvalue = [1, 0, 1]\\nclass = Alto'),\n",
       " Text(0.5024752475247525, 0.38235294117647056, 'gini = 0.0\\nsamples = 1\\nvalue = [1, 0, 0]\\nclass = Alto'),\n",
       " Text(0.5123762376237624, 0.38235294117647056, 'gini = 0.0\\nsamples = 1\\nvalue = [0, 0, 1]\\nclass = Medio'),\n",
       " Text(0.4975247524752475, 0.7352941176470589, 'GrLivArea <= 2513.5\\ngini = 0.142\\nsamples = 13\\nvalue = [0, 12, 1]\\nclass = Bajo'),\n",
       " Text(0.49257425742574257, 0.6764705882352942, 'gini = 0.0\\nsamples = 12\\nvalue = [0, 12, 0]\\nclass = Bajo'),\n",
       " Text(0.5024752475247525, 0.6764705882352942, 'gini = 0.0\\nsamples = 1\\nvalue = [0, 0, 1]\\nclass = Medio'),\n",
       " Text(0.6135519801980198, 0.7941176470588235, 'GrLivArea <= 1676.5\\ngini = 0.47\\nsamples = 182\\nvalue = [21, 126, 35]\\nclass = Bajo'),\n",
       " Text(0.5643564356435643, 0.7352941176470589, 'GrLivArea <= 1197.5\\ngini = 0.306\\nsamples = 123\\nvalue = [16, 101, 6]\\nclass = Bajo'),\n",
       " Text(0.5297029702970297, 0.6764705882352942, 'TotalBsmtSF <= 832.0\\ngini = 0.432\\nsamples = 38\\nvalue = [12, 26, 0]\\nclass = Bajo'),\n",
       " Text(0.5123762376237624, 0.6176470588235294, 'GrLivArea <= 1185.0\\ngini = 0.245\\nsamples = 7\\nvalue = [6, 1, 0]\\nclass = Alto'),\n",
       " Text(0.5074257425742574, 0.5588235294117647, 'gini = 0.0\\nsamples = 5\\nvalue = [5, 0, 0]\\nclass = Alto'),\n",
       " Text(0.5173267326732673, 0.5588235294117647, 'TotalBsmtSF <= 669.5\\ngini = 0.5\\nsamples = 2\\nvalue = [1, 1, 0]\\nclass = Alto'),\n",
       " Text(0.5123762376237624, 0.5, 'gini = 0.0\\nsamples = 1\\nvalue = [0, 1, 0]\\nclass = Bajo'),\n",
       " Text(0.5222772277227723, 0.5, 'gini = 0.0\\nsamples = 1\\nvalue = [1, 0, 0]\\nclass = Alto'),\n",
       " Text(0.5470297029702971, 0.6176470588235294, 'TotalBsmtSF <= 1062.5\\ngini = 0.312\\nsamples = 31\\nvalue = [6, 25, 0]\\nclass = Bajo'),\n",
       " Text(0.5371287128712872, 0.5588235294117647, 'TotalBsmtSF <= 947.0\\ngini = 0.172\\nsamples = 21\\nvalue = [2, 19, 0]\\nclass = Bajo'),\n",
       " Text(0.5321782178217822, 0.5, 'GrLivArea <= 1025.0\\ngini = 0.298\\nsamples = 11\\nvalue = [2, 9, 0]\\nclass = Bajo'),\n",
       " Text(0.5272277227722773, 0.4411764705882353, 'GrLivArea <= 880.0\\ngini = 0.18\\nsamples = 10\\nvalue = [1, 9, 0]\\nclass = Bajo'),\n",
       " Text(0.5222772277227723, 0.38235294117647056, 'gini = 0.219\\nsamples = 8\\nvalue = [1, 7, 0]\\nclass = Bajo'),\n",
       " Text(0.5321782178217822, 0.38235294117647056, 'gini = 0.0\\nsamples = 2\\nvalue = [0, 2, 0]\\nclass = Bajo'),\n",
       " Text(0.5371287128712872, 0.4411764705882353, 'gini = 0.0\\nsamples = 1\\nvalue = [1, 0, 0]\\nclass = Alto'),\n",
       " Text(0.5420792079207921, 0.5, 'gini = 0.0\\nsamples = 10\\nvalue = [0, 10, 0]\\nclass = Bajo'),\n",
       " Text(0.556930693069307, 0.5588235294117647, 'GrLivArea <= 1108.5\\ngini = 0.48\\nsamples = 10\\nvalue = [4, 6, 0]\\nclass = Bajo'),\n",
       " Text(0.551980198019802, 0.5, 'gini = 0.0\\nsamples = 4\\nvalue = [4, 0, 0]\\nclass = Alto'),\n",
       " Text(0.5618811881188119, 0.5, 'gini = 0.0\\nsamples = 6\\nvalue = [0, 6, 0]\\nclass = Bajo'),\n",
       " Text(0.599009900990099, 0.6764705882352942, 'TotalBsmtSF <= 1588.5\\ngini = 0.214\\nsamples = 85\\nvalue = [4, 75, 6]\\nclass = Bajo'),\n",
       " Text(0.5866336633663366, 0.6176470588235294, 'TotalBsmtSF <= 611.5\\ngini = 0.163\\nsamples = 80\\nvalue = [4, 73, 3]\\nclass = Bajo'),\n",
       " Text(0.5767326732673267, 0.5588235294117647, 'GrLivArea <= 1220.5\\ngini = 0.444\\nsamples = 3\\nvalue = [2, 1, 0]\\nclass = Alto'),\n",
       " Text(0.5717821782178217, 0.5, 'gini = 0.0\\nsamples = 1\\nvalue = [0, 1, 0]\\nclass = Bajo'),\n",
       " Text(0.5816831683168316, 0.5, 'gini = 0.0\\nsamples = 2\\nvalue = [2, 0, 0]\\nclass = Alto'),\n",
       " Text(0.5965346534653465, 0.5588235294117647, 'TotalBsmtSF <= 812.5\\ngini = 0.123\\nsamples = 77\\nvalue = [2, 72, 3]\\nclass = Bajo'),\n",
       " Text(0.5915841584158416, 0.5, 'gini = 0.0\\nsamples = 29\\nvalue = [0, 29, 0]\\nclass = Bajo'),\n",
       " Text(0.6014851485148515, 0.5, 'TotalBsmtSF <= 837.0\\ngini = 0.192\\nsamples = 48\\nvalue = [2, 43, 3]\\nclass = Bajo'),\n",
       " Text(0.5965346534653465, 0.4411764705882353, 'gini = 0.0\\nsamples = 1\\nvalue = [1, 0, 0]\\nclass = Alto'),\n",
       " Text(0.6064356435643564, 0.4411764705882353, 'GrLivArea <= 1491.5\\ngini = 0.158\\nsamples = 47\\nvalue = [1, 43, 3]\\nclass = Bajo'),\n",
       " Text(0.5891089108910891, 0.38235294117647056, 'GrLivArea <= 1225.0\\ngini = 0.109\\nsamples = 35\\nvalue = [1, 33, 1]\\nclass = Bajo'),\n",
       " Text(0.5792079207920792, 0.3235294117647059, 'GrLivArea <= 1217.0\\ngini = 0.245\\nsamples = 7\\nvalue = [0, 6, 1]\\nclass = Bajo'),\n",
       " Text(0.5742574257425742, 0.2647058823529412, 'gini = 0.0\\nsamples = 6\\nvalue = [0, 6, 0]\\nclass = Bajo'),\n",
       " Text(0.5841584158415841, 0.2647058823529412, 'gini = 0.0\\nsamples = 1\\nvalue = [0, 0, 1]\\nclass = Medio'),\n",
       " Text(0.599009900990099, 0.3235294117647059, 'TotalBsmtSF <= 1379.5\\ngini = 0.069\\nsamples = 28\\nvalue = [1, 27, 0]\\nclass = Bajo'),\n",
       " Text(0.594059405940594, 0.2647058823529412, 'gini = 0.0\\nsamples = 19\\nvalue = [0, 19, 0]\\nclass = Bajo'),\n",
       " Text(0.6039603960396039, 0.2647058823529412, 'TotalBsmtSF <= 1393.0\\ngini = 0.198\\nsamples = 9\\nvalue = [1, 8, 0]\\nclass = Bajo'),\n",
       " Text(0.599009900990099, 0.20588235294117646, 'gini = 0.5\\nsamples = 2\\nvalue = [1, 1, 0]\\nclass = Alto'),\n",
       " Text(0.6089108910891089, 0.20588235294117646, 'gini = 0.0\\nsamples = 7\\nvalue = [0, 7, 0]\\nclass = Bajo'),\n",
       " Text(0.6237623762376238, 0.38235294117647056, 'GrLivArea <= 1499.5\\ngini = 0.278\\nsamples = 12\\nvalue = [0, 10, 2]\\nclass = Bajo'),\n",
       " Text(0.6188118811881188, 0.3235294117647059, 'gini = 0.0\\nsamples = 1\\nvalue = [0, 0, 1]\\nclass = Medio'),\n",
       " Text(0.6287128712871287, 0.3235294117647059, 'TotalBsmtSF <= 1114.0\\ngini = 0.165\\nsamples = 11\\nvalue = [0, 10, 1]\\nclass = Bajo'),\n",
       " Text(0.6237623762376238, 0.2647058823529412, 'TotalBsmtSF <= 1012.0\\ngini = 0.444\\nsamples = 3\\nvalue = [0, 2, 1]\\nclass = Bajo'),\n",
       " Text(0.6188118811881188, 0.20588235294117646, 'gini = 0.0\\nsamples = 2\\nvalue = [0, 2, 0]\\nclass = Bajo'),\n",
       " Text(0.6287128712871287, 0.20588235294117646, 'gini = 0.0\\nsamples = 1\\nvalue = [0, 0, 1]\\nclass = Medio'),\n",
       " Text(0.6336633663366337, 0.2647058823529412, 'gini = 0.0\\nsamples = 8\\nvalue = [0, 8, 0]\\nclass = Bajo'),\n",
       " Text(0.6113861386138614, 0.6176470588235294, 'GrLivArea <= 1634.0\\ngini = 0.48\\nsamples = 5\\nvalue = [0, 2, 3]\\nclass = Medio'),\n",
       " Text(0.6064356435643564, 0.5588235294117647, 'gini = 0.0\\nsamples = 3\\nvalue = [0, 0, 3]\\nclass = Medio'),\n",
       " Text(0.6163366336633663, 0.5588235294117647, 'gini = 0.0\\nsamples = 2\\nvalue = [0, 2, 0]\\nclass = Bajo'),\n",
       " Text(0.6627475247524752, 0.7352941176470589, 'TotalBsmtSF <= 787.0\\ngini = 0.572\\nsamples = 59\\nvalue = [5, 25, 29]\\nclass = Medio'),\n",
       " Text(0.6287128712871287, 0.6764705882352942, 'TotalBsmtSF <= 241.0\\ngini = 0.357\\nsamples = 14\\nvalue = [2, 11, 1]\\nclass = Bajo'),\n",
       " Text(0.6237623762376238, 0.6176470588235294, 'gini = 0.0\\nsamples = 1\\nvalue = [1, 0, 0]\\nclass = Alto'),\n",
       " Text(0.6336633663366337, 0.6176470588235294, 'GrLivArea <= 1985.0\\ngini = 0.272\\nsamples = 13\\nvalue = [1, 11, 1]\\nclass = Bajo'),\n",
       " Text(0.6287128712871287, 0.5588235294117647, 'gini = 0.0\\nsamples = 9\\nvalue = [0, 9, 0]\\nclass = Bajo'),\n",
       " Text(0.6386138613861386, 0.5588235294117647, 'TotalBsmtSF <= 693.0\\ngini = 0.625\\nsamples = 4\\nvalue = [1, 2, 1]\\nclass = Bajo'),\n",
       " Text(0.6336633663366337, 0.5, 'gini = 0.0\\nsamples = 2\\nvalue = [0, 2, 0]\\nclass = Bajo'),\n",
       " Text(0.6435643564356436, 0.5, 'TotalBsmtSF <= 716.0\\ngini = 0.5\\nsamples = 2\\nvalue = [1, 0, 1]\\nclass = Alto'),\n",
       " Text(0.6386138613861386, 0.4411764705882353, 'gini = 0.0\\nsamples = 1\\nvalue = [0, 0, 1]\\nclass = Medio'),\n",
       " Text(0.6485148514851485, 0.4411764705882353, 'gini = 0.0\\nsamples = 1\\nvalue = [1, 0, 0]\\nclass = Alto'),\n",
       " Text(0.6967821782178217, 0.6764705882352942, 'GrLivArea <= 1959.0\\ngini = 0.512\\nsamples = 45\\nvalue = [3, 14, 28]\\nclass = Medio'),\n",
       " Text(0.6806930693069307, 0.6176470588235294, 'GrLivArea <= 1841.5\\ngini = 0.561\\nsamples = 28\\nvalue = [2, 12, 14]\\nclass = Medio'),\n",
       " Text(0.6633663366336634, 0.5588235294117647, 'TotalBsmtSF <= 828.0\\ngini = 0.54\\nsamples = 20\\nvalue = [2, 6, 12]\\nclass = Medio'),\n",
       " Text(0.6584158415841584, 0.5, 'gini = 0.0\\nsamples = 3\\nvalue = [0, 0, 3]\\nclass = Medio'),\n",
       " Text(0.6683168316831684, 0.5, 'TotalBsmtSF <= 1081.5\\ngini = 0.581\\nsamples = 17\\nvalue = [2, 6, 9]\\nclass = Medio'),\n",
       " Text(0.6584158415841584, 0.4411764705882353, 'GrLivArea <= 1778.0\\ngini = 0.494\\nsamples = 9\\nvalue = [0, 5, 4]\\nclass = Bajo'),\n",
       " Text(0.6534653465346535, 0.38235294117647056, 'GrLivArea <= 1745.0\\ngini = 0.49\\nsamples = 7\\nvalue = [0, 3, 4]\\nclass = Medio'),\n",
       " Text(0.6485148514851485, 0.3235294117647059, 'TotalBsmtSF <= 923.0\\ngini = 0.48\\nsamples = 5\\nvalue = [0, 3, 2]\\nclass = Bajo'),\n",
       " Text(0.6435643564356436, 0.2647058823529412, 'GrLivArea <= 1681.5\\ngini = 0.375\\nsamples = 4\\nvalue = [0, 3, 1]\\nclass = Bajo'),\n",
       " Text(0.6386138613861386, 0.20588235294117646, 'gini = 0.0\\nsamples = 1\\nvalue = [0, 0, 1]\\nclass = Medio'),\n",
       " Text(0.6485148514851485, 0.20588235294117646, 'gini = 0.0\\nsamples = 3\\nvalue = [0, 3, 0]\\nclass = Bajo'),\n",
       " Text(0.6534653465346535, 0.2647058823529412, 'gini = 0.0\\nsamples = 1\\nvalue = [0, 0, 1]\\nclass = Medio'),\n",
       " Text(0.6584158415841584, 0.3235294117647059, 'gini = 0.0\\nsamples = 2\\nvalue = [0, 0, 2]\\nclass = Medio'),\n",
       " Text(0.6633663366336634, 0.38235294117647056, 'gini = 0.0\\nsamples = 2\\nvalue = [0, 2, 0]\\nclass = Bajo'),\n",
       " Text(0.6782178217821783, 0.4411764705882353, 'TotalBsmtSF <= 1707.0\\ngini = 0.531\\nsamples = 8\\nvalue = [2, 1, 5]\\nclass = Medio'),\n",
       " Text(0.6732673267326733, 0.38235294117647056, 'TotalBsmtSF <= 1456.5\\ngini = 0.408\\nsamples = 7\\nvalue = [2, 0, 5]\\nclass = Medio'),\n",
       " Text(0.6683168316831684, 0.3235294117647059, 'GrLivArea <= 1684.0\\ngini = 0.444\\nsamples = 3\\nvalue = [2, 0, 1]\\nclass = Alto'),\n",
       " Text(0.6633663366336634, 0.2647058823529412, 'gini = 0.0\\nsamples = 1\\nvalue = [0, 0, 1]\\nclass = Medio'),\n",
       " Text(0.6732673267326733, 0.2647058823529412, 'gini = 0.0\\nsamples = 2\\nvalue = [2, 0, 0]\\nclass = Alto'),\n",
       " Text(0.6782178217821783, 0.3235294117647059, 'gini = 0.0\\nsamples = 4\\nvalue = [0, 0, 4]\\nclass = Medio'),\n",
       " Text(0.6831683168316832, 0.38235294117647056, 'gini = 0.0\\nsamples = 1\\nvalue = [0, 1, 0]\\nclass = Bajo'),\n",
       " Text(0.698019801980198, 0.5588235294117647, 'TotalBsmtSF <= 897.5\\ngini = 0.375\\nsamples = 8\\nvalue = [0, 6, 2]\\nclass = Bajo'),\n",
       " Text(0.693069306930693, 0.5, 'TotalBsmtSF <= 827.5\\ngini = 0.444\\nsamples = 3\\nvalue = [0, 1, 2]\\nclass = Medio'),\n",
       " Text(0.6881188118811881, 0.4411764705882353, 'gini = 0.0\\nsamples = 1\\nvalue = [0, 1, 0]\\nclass = Bajo'),\n",
       " Text(0.698019801980198, 0.4411764705882353, 'gini = 0.0\\nsamples = 2\\nvalue = [0, 0, 2]\\nclass = Medio'),\n",
       " Text(0.7029702970297029, 0.5, 'gini = 0.0\\nsamples = 5\\nvalue = [0, 5, 0]\\nclass = Bajo'),\n",
       " Text(0.7128712871287128, 0.6176470588235294, 'TotalBsmtSF <= 840.0\\ngini = 0.304\\nsamples = 17\\nvalue = [1, 2, 14]\\nclass = Medio'),\n",
       " Text(0.7079207920792079, 0.5588235294117647, 'gini = 0.0\\nsamples = 1\\nvalue = [0, 1, 0]\\nclass = Bajo'),\n",
       " Text(0.7178217821782178, 0.5588235294117647, 'GrLivArea <= 2275.0\\ngini = 0.227\\nsamples = 16\\nvalue = [1, 1, 14]\\nclass = Medio'),\n",
       " Text(0.7128712871287128, 0.5, 'gini = 0.0\\nsamples = 8\\nvalue = [0, 0, 8]\\nclass = Medio'),\n",
       " Text(0.7227722772277227, 0.5, 'GrLivArea <= 2318.0\\ngini = 0.406\\nsamples = 8\\nvalue = [1, 1, 6]\\nclass = Medio'),\n",
       " Text(0.7178217821782178, 0.4411764705882353, 'gini = 0.0\\nsamples = 1\\nvalue = [1, 0, 0]\\nclass = Alto'),\n",
       " Text(0.7277227722772277, 0.4411764705882353, 'TotalBsmtSF <= 947.0\\ngini = 0.245\\nsamples = 7\\nvalue = [0, 1, 6]\\nclass = Medio'),\n",
       " Text(0.7227722772277227, 0.38235294117647056, 'TotalBsmtSF <= 924.5\\ngini = 0.5\\nsamples = 2\\nvalue = [0, 1, 1]\\nclass = Bajo'),\n",
       " Text(0.7178217821782178, 0.3235294117647059, 'gini = 0.0\\nsamples = 1\\nvalue = [0, 0, 1]\\nclass = Medio'),\n",
       " Text(0.7277227722772277, 0.3235294117647059, 'gini = 0.0\\nsamples = 1\\nvalue = [0, 1, 0]\\nclass = Bajo'),\n",
       " Text(0.7326732673267327, 0.38235294117647056, 'gini = 0.0\\nsamples = 5\\nvalue = [0, 0, 5]\\nclass = Medio'),\n",
       " Text(0.8463799504950495, 0.9117647058823529, 'GrLivArea <= 1492.0\\ngini = 0.403\\nsamples = 384\\nvalue = [8, 95, 281]\\nclass = Medio'),\n",
       " Text(0.7586633663366337, 0.8529411764705882, 'TotalBsmtSF <= 1181.5\\ngini = 0.508\\nsamples = 98\\nvalue = [4, 59, 35]\\nclass = Bajo'),\n",
       " Text(0.7376237623762376, 0.7941176470588235, 'GrLivArea <= 926.5\\ngini = 0.139\\nsamples = 40\\nvalue = [3, 37, 0]\\nclass = Bajo'),\n",
       " Text(0.7326732673267327, 0.7352941176470589, 'gini = 0.0\\nsamples = 1\\nvalue = [1, 0, 0]\\nclass = Alto'),\n",
       " Text(0.7425742574257426, 0.7352941176470589, 'GarageCars <= 1.5\\ngini = 0.097\\nsamples = 39\\nvalue = [2, 37, 0]\\nclass = Bajo'),\n",
       " Text(0.7376237623762376, 0.6764705882352942, 'TotalBsmtSF <= 756.0\\ngini = 0.444\\nsamples = 6\\nvalue = [2, 4, 0]\\nclass = Bajo'),\n",
       " Text(0.7326732673267327, 0.6176470588235294, 'GrLivArea <= 1109.5\\ngini = 0.444\\nsamples = 3\\nvalue = [2, 1, 0]\\nclass = Alto'),\n",
       " Text(0.7277227722772277, 0.5588235294117647, 'gini = 0.0\\nsamples = 1\\nvalue = [0, 1, 0]\\nclass = Bajo'),\n",
       " Text(0.7376237623762376, 0.5588235294117647, 'gini = 0.0\\nsamples = 2\\nvalue = [2, 0, 0]\\nclass = Alto'),\n",
       " Text(0.7425742574257426, 0.6176470588235294, 'gini = 0.0\\nsamples = 3\\nvalue = [0, 3, 0]\\nclass = Bajo'),\n",
       " Text(0.7475247524752475, 0.6764705882352942, 'gini = 0.0\\nsamples = 33\\nvalue = [0, 33, 0]\\nclass = Bajo'),\n",
       " Text(0.7797029702970297, 0.7941176470588235, 'GrLivArea <= 1449.0\\ngini = 0.492\\nsamples = 58\\nvalue = [1, 22, 35]\\nclass = Medio'),\n",
       " Text(0.7747524752475248, 0.7352941176470589, 'GrLivArea <= 1403.5\\ngini = 0.512\\nsamples = 51\\nvalue = [1, 22, 28]\\nclass = Medio'),\n",
       " Text(0.7574257425742574, 0.6764705882352942, 'GrLivArea <= 1350.5\\ngini = 0.469\\nsamples = 40\\nvalue = [0, 15, 25]\\nclass = Medio'),\n",
       " Text(0.7524752475247525, 0.6176470588235294, 'TotalBsmtSF <= 1210.0\\ngini = 0.499\\nsamples = 31\\nvalue = [0, 15, 16]\\nclass = Medio'),\n",
       " Text(0.7475247524752475, 0.5588235294117647, 'gini = 0.0\\nsamples = 2\\nvalue = [0, 0, 2]\\nclass = Medio'),\n",
       " Text(0.7574257425742574, 0.5588235294117647, 'TotalBsmtSF <= 1230.0\\ngini = 0.499\\nsamples = 29\\nvalue = [0, 15, 14]\\nclass = Bajo'),\n",
       " Text(0.7524752475247525, 0.5, 'gini = 0.0\\nsamples = 3\\nvalue = [0, 3, 0]\\nclass = Bajo'),\n",
       " Text(0.7623762376237624, 0.5, 'OverallQual <= 7.5\\ngini = 0.497\\nsamples = 26\\nvalue = [0, 12, 14]\\nclass = Medio'),\n",
       " Text(0.7524752475247525, 0.4411764705882353, 'GrLivArea <= 1241.5\\ngini = 0.494\\nsamples = 18\\nvalue = [0, 10, 8]\\nclass = Bajo'),\n",
       " Text(0.7475247524752475, 0.38235294117647056, 'gini = 0.0\\nsamples = 3\\nvalue = [0, 0, 3]\\nclass = Medio'),\n",
       " Text(0.7574257425742574, 0.38235294117647056, 'TotalBsmtSF <= 1270.0\\ngini = 0.444\\nsamples = 15\\nvalue = [0, 10, 5]\\nclass = Bajo'),\n",
       " Text(0.7524752475247525, 0.3235294117647059, 'gini = 0.0\\nsamples = 5\\nvalue = [0, 5, 0]\\nclass = Bajo'),\n",
       " Text(0.7623762376237624, 0.3235294117647059, 'TotalBsmtSF <= 1294.0\\ngini = 0.5\\nsamples = 10\\nvalue = [0, 5, 5]\\nclass = Bajo'),\n",
       " Text(0.7574257425742574, 0.2647058823529412, 'gini = 0.0\\nsamples = 2\\nvalue = [0, 0, 2]\\nclass = Medio'),\n",
       " Text(0.7673267326732673, 0.2647058823529412, 'TotalBsmtSF <= 1312.0\\ngini = 0.469\\nsamples = 8\\nvalue = [0, 5, 3]\\nclass = Bajo'),\n",
       " Text(0.7623762376237624, 0.20588235294117646, 'gini = 0.0\\nsamples = 3\\nvalue = [0, 3, 0]\\nclass = Bajo'),\n",
       " Text(0.7722772277227723, 0.20588235294117646, 'GrLivArea <= 1328.0\\ngini = 0.48\\nsamples = 5\\nvalue = [0, 2, 3]\\nclass = Medio'),\n",
       " Text(0.7673267326732673, 0.14705882352941177, 'gini = 0.0\\nsamples = 2\\nvalue = [0, 0, 2]\\nclass = Medio'),\n",
       " Text(0.7772277227722773, 0.14705882352941177, 'GarageCars <= 3.0\\ngini = 0.444\\nsamples = 3\\nvalue = [0, 2, 1]\\nclass = Bajo'),\n",
       " Text(0.7722772277227723, 0.08823529411764706, 'gini = 0.0\\nsamples = 2\\nvalue = [0, 2, 0]\\nclass = Bajo'),\n",
       " Text(0.7821782178217822, 0.08823529411764706, 'gini = 0.0\\nsamples = 1\\nvalue = [0, 0, 1]\\nclass = Medio'),\n",
       " Text(0.7722772277227723, 0.4411764705882353, 'TotalBsmtSF <= 1240.5\\ngini = 0.375\\nsamples = 8\\nvalue = [0, 2, 6]\\nclass = Medio'),\n",
       " Text(0.7673267326732673, 0.38235294117647056, 'gini = 0.0\\nsamples = 1\\nvalue = [0, 1, 0]\\nclass = Bajo'),\n",
       " Text(0.7772277227722773, 0.38235294117647056, 'GrLivArea <= 1330.5\\ngini = 0.245\\nsamples = 7\\nvalue = [0, 1, 6]\\nclass = Medio'),\n",
       " Text(0.7722772277227723, 0.3235294117647059, 'gini = 0.0\\nsamples = 5\\nvalue = [0, 0, 5]\\nclass = Medio'),\n",
       " Text(0.7821782178217822, 0.3235294117647059, 'TotalBsmtSF <= 1337.5\\ngini = 0.5\\nsamples = 2\\nvalue = [0, 1, 1]\\nclass = Bajo'),\n",
       " Text(0.7772277227722773, 0.2647058823529412, 'gini = 0.0\\nsamples = 1\\nvalue = [0, 1, 0]\\nclass = Bajo'),\n",
       " Text(0.7871287128712872, 0.2647058823529412, 'gini = 0.0\\nsamples = 1\\nvalue = [0, 0, 1]\\nclass = Medio'),\n",
       " Text(0.7623762376237624, 0.6176470588235294, 'gini = 0.0\\nsamples = 9\\nvalue = [0, 0, 9]\\nclass = Medio'),\n",
       " Text(0.7920792079207921, 0.6764705882352942, 'TotalBsmtSF <= 1415.5\\ngini = 0.512\\nsamples = 11\\nvalue = [1, 7, 3]\\nclass = Bajo'),\n",
       " Text(0.7821782178217822, 0.6176470588235294, 'GrLivArea <= 1412.5\\ngini = 0.32\\nsamples = 5\\nvalue = [1, 4, 0]\\nclass = Bajo'),\n",
       " Text(0.7772277227722773, 0.5588235294117647, 'TotalBsmtSF <= 1395.5\\ngini = 0.5\\nsamples = 2\\nvalue = [1, 1, 0]\\nclass = Alto'),\n",
       " Text(0.7722772277227723, 0.5, 'gini = 0.0\\nsamples = 1\\nvalue = [1, 0, 0]\\nclass = Alto'),\n",
       " Text(0.7821782178217822, 0.5, 'gini = 0.0\\nsamples = 1\\nvalue = [0, 1, 0]\\nclass = Bajo'),\n",
       " Text(0.7871287128712872, 0.5588235294117647, 'gini = 0.0\\nsamples = 3\\nvalue = [0, 3, 0]\\nclass = Bajo'),\n",
       " Text(0.801980198019802, 0.6176470588235294, 'GrLivArea <= 1432.5\\ngini = 0.5\\nsamples = 6\\nvalue = [0, 3, 3]\\nclass = Bajo'),\n",
       " Text(0.7970297029702971, 0.5588235294117647, 'GrLivArea <= 1425.0\\ngini = 0.375\\nsamples = 4\\nvalue = [0, 1, 3]\\nclass = Medio'),\n",
       " Text(0.7920792079207921, 0.5, 'GrLivArea <= 1420.5\\ngini = 0.5\\nsamples = 2\\nvalue = [0, 1, 1]\\nclass = Bajo'),\n",
       " Text(0.7871287128712872, 0.4411764705882353, 'gini = 0.0\\nsamples = 1\\nvalue = [0, 0, 1]\\nclass = Medio'),\n",
       " Text(0.7970297029702971, 0.4411764705882353, 'gini = 0.0\\nsamples = 1\\nvalue = [0, 1, 0]\\nclass = Bajo'),\n",
       " Text(0.801980198019802, 0.5, 'gini = 0.0\\nsamples = 2\\nvalue = [0, 0, 2]\\nclass = Medio'),\n",
       " Text(0.806930693069307, 0.5588235294117647, 'gini = 0.0\\nsamples = 2\\nvalue = [0, 2, 0]\\nclass = Bajo'),\n",
       " Text(0.7846534653465347, 0.7352941176470589, 'gini = 0.0\\nsamples = 7\\nvalue = [0, 0, 7]\\nclass = Medio'),\n",
       " Text(0.9340965346534653, 0.8529411764705882, 'TotalBsmtSF <= 1027.0\\ngini = 0.244\\nsamples = 286\\nvalue = [4, 36, 246]\\nclass = Medio'),\n",
       " Text(0.8780940594059405, 0.7941176470588235, 'GrLivArea <= 1765.0\\ngini = 0.489\\nsamples = 89\\nvalue = [4, 28, 57]\\nclass = Medio'),\n",
       " Text(0.8378712871287128, 0.7352941176470589, 'TotalBsmtSF <= 787.5\\ngini = 0.537\\nsamples = 36\\nvalue = [2, 20, 14]\\nclass = Bajo'),\n",
       " Text(0.8168316831683168, 0.6764705882352942, 'TotalBsmtSF <= 549.0\\ngini = 0.355\\nsamples = 13\\nvalue = [0, 10, 3]\\nclass = Bajo'),\n",
       " Text(0.8118811881188119, 0.6176470588235294, 'gini = 0.0\\nsamples = 1\\nvalue = [0, 0, 1]\\nclass = Medio'),\n",
       " Text(0.8217821782178217, 0.6176470588235294, 'GrLivArea <= 1579.0\\ngini = 0.278\\nsamples = 12\\nvalue = [0, 10, 2]\\nclass = Bajo'),\n",
       " Text(0.8168316831683168, 0.5588235294117647, 'GrLivArea <= 1570.0\\ngini = 0.408\\nsamples = 7\\nvalue = [0, 5, 2]\\nclass = Bajo'),\n",
       " Text(0.8118811881188119, 0.5, 'GrLivArea <= 1528.0\\ngini = 0.278\\nsamples = 6\\nvalue = [0, 5, 1]\\nclass = Bajo'),\n",
       " Text(0.806930693069307, 0.4411764705882353, 'gini = 0.0\\nsamples = 3\\nvalue = [0, 3, 0]\\nclass = Bajo'),\n",
       " Text(0.8168316831683168, 0.4411764705882353, 'GrLivArea <= 1550.0\\ngini = 0.444\\nsamples = 3\\nvalue = [0, 2, 1]\\nclass = Bajo'),\n",
       " Text(0.8118811881188119, 0.38235294117647056, 'gini = 0.0\\nsamples = 1\\nvalue = [0, 0, 1]\\nclass = Medio'),\n",
       " Text(0.8217821782178217, 0.38235294117647056, 'gini = 0.0\\nsamples = 2\\nvalue = [0, 2, 0]\\nclass = Bajo'),\n",
       " Text(0.8217821782178217, 0.5, 'gini = 0.0\\nsamples = 1\\nvalue = [0, 0, 1]\\nclass = Medio'),\n",
       " Text(0.8267326732673267, 0.5588235294117647, 'gini = 0.0\\nsamples = 5\\nvalue = [0, 5, 0]\\nclass = Bajo'),\n",
       " Text(0.8589108910891089, 0.6764705882352942, 'TotalBsmtSF <= 812.5\\ngini = 0.575\\nsamples = 23\\nvalue = [2, 10, 11]\\nclass = Medio'),\n",
       " Text(0.8539603960396039, 0.6176470588235294, 'gini = 0.0\\nsamples = 4\\nvalue = [0, 0, 4]\\nclass = Medio'),\n",
       " Text(0.8638613861386139, 0.6176470588235294, 'TotalBsmtSF <= 975.0\\ngini = 0.576\\nsamples = 19\\nvalue = [2, 10, 7]\\nclass = Bajo'),\n",
       " Text(0.8589108910891089, 0.5588235294117647, 'TotalBsmtSF <= 877.0\\ngini = 0.554\\nsamples = 17\\nvalue = [2, 10, 5]\\nclass = Bajo'),\n",
       " Text(0.8465346534653465, 0.5, 'TotalBsmtSF <= 843.0\\ngini = 0.494\\nsamples = 9\\nvalue = [0, 4, 5]\\nclass = Medio'),\n",
       " Text(0.8366336633663366, 0.4411764705882353, 'GrLivArea <= 1664.0\\ngini = 0.375\\nsamples = 4\\nvalue = [0, 3, 1]\\nclass = Bajo'),\n",
       " Text(0.8316831683168316, 0.38235294117647056, 'gini = 0.0\\nsamples = 1\\nvalue = [0, 0, 1]\\nclass = Medio'),\n",
       " Text(0.8415841584158416, 0.38235294117647056, 'gini = 0.0\\nsamples = 3\\nvalue = [0, 3, 0]\\nclass = Bajo'),\n",
       " Text(0.8564356435643564, 0.4411764705882353, 'GrLivArea <= 1724.0\\ngini = 0.32\\nsamples = 5\\nvalue = [0, 1, 4]\\nclass = Medio'),\n",
       " Text(0.8514851485148515, 0.38235294117647056, 'gini = 0.0\\nsamples = 3\\nvalue = [0, 0, 3]\\nclass = Medio'),\n",
       " Text(0.8613861386138614, 0.38235294117647056, 'TotalBsmtSF <= 869.0\\ngini = 0.5\\nsamples = 2\\nvalue = [0, 1, 1]\\nclass = Bajo'),\n",
       " Text(0.8564356435643564, 0.3235294117647059, 'gini = 0.0\\nsamples = 1\\nvalue = [0, 1, 0]\\nclass = Bajo'),\n",
       " Text(0.8663366336633663, 0.3235294117647059, 'gini = 0.0\\nsamples = 1\\nvalue = [0, 0, 1]\\nclass = Medio'),\n",
       " Text(0.8712871287128713, 0.5, 'TotalBsmtSF <= 952.5\\ngini = 0.375\\nsamples = 8\\nvalue = [2, 6, 0]\\nclass = Bajo'),\n",
       " Text(0.8663366336633663, 0.4411764705882353, 'gini = 0.0\\nsamples = 5\\nvalue = [0, 5, 0]\\nclass = Bajo'),\n",
       " Text(0.8762376237623762, 0.4411764705882353, 'GrLivArea <= 1724.0\\ngini = 0.444\\nsamples = 3\\nvalue = [2, 1, 0]\\nclass = Alto'),\n",
       " Text(0.8712871287128713, 0.38235294117647056, 'gini = 0.0\\nsamples = 2\\nvalue = [2, 0, 0]\\nclass = Alto'),\n",
       " Text(0.8811881188118812, 0.38235294117647056, 'gini = 0.0\\nsamples = 1\\nvalue = [0, 1, 0]\\nclass = Bajo'),\n",
       " Text(0.8688118811881188, 0.5588235294117647, 'gini = 0.0\\nsamples = 2\\nvalue = [0, 0, 2]\\nclass = Medio'),\n",
       " Text(0.9183168316831684, 0.7352941176470589, 'GarageCars <= 0.5\\ngini = 0.318\\nsamples = 53\\nvalue = [2, 8, 43]\\nclass = Medio'),\n",
       " Text(0.9133663366336634, 0.6764705882352942, 'gini = 0.0\\nsamples = 1\\nvalue = [1, 0, 0]\\nclass = Alto'),\n",
       " Text(0.9232673267326733, 0.6764705882352942, 'TotalBsmtSF <= 1021.5\\ngini = 0.292\\nsamples = 52\\nvalue = [1, 8, 43]\\nclass = Medio'),\n",
       " Text(0.9183168316831684, 0.6176470588235294, 'TotalBsmtSF <= 734.0\\ngini = 0.27\\nsamples = 51\\nvalue = [1, 7, 43]\\nclass = Medio'),\n",
       " Text(0.905940594059406, 0.5588235294117647, 'GrLivArea <= 2766.0\\ngini = 0.49\\nsamples = 7\\nvalue = [0, 3, 4]\\nclass = Medio'),\n",
       " Text(0.900990099009901, 0.5, 'GrLivArea <= 1970.5\\ngini = 0.48\\nsamples = 5\\nvalue = [0, 3, 2]\\nclass = Bajo'),\n",
       " Text(0.8960396039603961, 0.4411764705882353, 'TotalBsmtSF <= 285.0\\ngini = 0.444\\nsamples = 3\\nvalue = [0, 1, 2]\\nclass = Medio'),\n",
       " Text(0.8910891089108911, 0.38235294117647056, 'gini = 0.0\\nsamples = 1\\nvalue = [0, 0, 1]\\nclass = Medio'),\n",
       " Text(0.900990099009901, 0.38235294117647056, 'TotalBsmtSF <= 641.0\\ngini = 0.5\\nsamples = 2\\nvalue = [0, 1, 1]\\nclass = Bajo'),\n",
       " Text(0.8960396039603961, 0.3235294117647059, 'gini = 0.0\\nsamples = 1\\nvalue = [0, 1, 0]\\nclass = Bajo'),\n",
       " Text(0.905940594059406, 0.3235294117647059, 'gini = 0.0\\nsamples = 1\\nvalue = [0, 0, 1]\\nclass = Medio'),\n",
       " Text(0.905940594059406, 0.4411764705882353, 'gini = 0.0\\nsamples = 2\\nvalue = [0, 2, 0]\\nclass = Bajo'),\n",
       " Text(0.9108910891089109, 0.5, 'gini = 0.0\\nsamples = 2\\nvalue = [0, 0, 2]\\nclass = Medio'),\n",
       " Text(0.9306930693069307, 0.5588235294117647, 'GrLivArea <= 1774.5\\ngini = 0.206\\nsamples = 44\\nvalue = [1, 4, 39]\\nclass = Medio'),\n",
       " Text(0.9207920792079208, 0.5, 'GrLivArea <= 1771.0\\ngini = 0.5\\nsamples = 2\\nvalue = [1, 0, 1]\\nclass = Alto'),\n",
       " Text(0.9158415841584159, 0.4411764705882353, 'gini = 0.0\\nsamples = 1\\nvalue = [0, 0, 1]\\nclass = Medio'),\n",
       " Text(0.9257425742574258, 0.4411764705882353, 'gini = 0.0\\nsamples = 1\\nvalue = [1, 0, 0]\\nclass = Alto'),\n",
       " Text(0.9405940594059405, 0.5, 'GrLivArea <= 1980.0\\ngini = 0.172\\nsamples = 42\\nvalue = [0, 4, 38]\\nclass = Medio'),\n",
       " Text(0.9356435643564357, 0.4411764705882353, 'GrLivArea <= 1968.5\\ngini = 0.26\\nsamples = 26\\nvalue = [0, 4, 22]\\nclass = Medio'),\n",
       " Text(0.9306930693069307, 0.38235294117647056, 'TotalBsmtSF <= 993.0\\ngini = 0.153\\nsamples = 24\\nvalue = [0, 2, 22]\\nclass = Medio'),\n",
       " Text(0.9257425742574258, 0.3235294117647059, 'GarageCars <= 1.5\\ngini = 0.083\\nsamples = 23\\nvalue = [0, 1, 22]\\nclass = Medio'),\n",
       " Text(0.9207920792079208, 0.2647058823529412, 'TotalBsmtSF <= 851.5\\ngini = 0.5\\nsamples = 2\\nvalue = [0, 1, 1]\\nclass = Bajo'),\n",
       " Text(0.9158415841584159, 0.20588235294117646, 'gini = 0.0\\nsamples = 1\\nvalue = [0, 0, 1]\\nclass = Medio'),\n",
       " Text(0.9257425742574258, 0.20588235294117646, 'gini = 0.0\\nsamples = 1\\nvalue = [0, 1, 0]\\nclass = Bajo'),\n",
       " Text(0.9306930693069307, 0.2647058823529412, 'gini = 0.0\\nsamples = 21\\nvalue = [0, 0, 21]\\nclass = Medio'),\n",
       " Text(0.9356435643564357, 0.3235294117647059, 'gini = 0.0\\nsamples = 1\\nvalue = [0, 1, 0]\\nclass = Bajo'),\n",
       " Text(0.9405940594059405, 0.38235294117647056, 'gini = 0.0\\nsamples = 2\\nvalue = [0, 2, 0]\\nclass = Bajo'),\n",
       " Text(0.9455445544554455, 0.4411764705882353, 'gini = 0.0\\nsamples = 16\\nvalue = [0, 0, 16]\\nclass = Medio'),\n",
       " Text(0.9282178217821783, 0.6176470588235294, 'gini = 0.0\\nsamples = 1\\nvalue = [0, 1, 0]\\nclass = Bajo'),\n",
       " Text(0.9900990099009901, 0.7941176470588235, 'GrLivArea <= 4576.0\\ngini = 0.078\\nsamples = 197\\nvalue = [0, 8, 189]\\nclass = Medio'),\n",
       " Text(0.9851485148514851, 0.7352941176470589, 'OverallQual <= 7.5\\ngini = 0.06\\nsamples = 195\\nvalue = [0, 6, 189]\\nclass = Medio'),\n",
       " Text(0.9801980198019802, 0.6764705882352942, 'GrLivArea <= 1995.0\\ngini = 0.168\\nsamples = 65\\nvalue = [0, 6, 59]\\nclass = Medio'),\n",
       " Text(0.9752475247524752, 0.6176470588235294, 'TotalBsmtSF <= 1351.0\\ngini = 0.272\\nsamples = 37\\nvalue = [0, 6, 31]\\nclass = Medio'),\n",
       " Text(0.9653465346534653, 0.5588235294117647, 'TotalBsmtSF <= 1239.5\\ngini = 0.494\\nsamples = 9\\nvalue = [0, 5, 4]\\nclass = Bajo'),\n",
       " Text(0.9603960396039604, 0.5, 'TotalBsmtSF <= 1124.0\\ngini = 0.32\\nsamples = 5\\nvalue = [0, 1, 4]\\nclass = Medio'),\n",
       " Text(0.9554455445544554, 0.4411764705882353, 'gini = 0.0\\nsamples = 3\\nvalue = [0, 0, 3]\\nclass = Medio'),\n",
       " Text(0.9653465346534653, 0.4411764705882353, 'GrLivArea <= 1669.0\\ngini = 0.5\\nsamples = 2\\nvalue = [0, 1, 1]\\nclass = Bajo'),\n",
       " Text(0.9603960396039604, 0.38235294117647056, 'gini = 0.0\\nsamples = 1\\nvalue = [0, 0, 1]\\nclass = Medio'),\n",
       " Text(0.9702970297029703, 0.38235294117647056, 'gini = 0.0\\nsamples = 1\\nvalue = [0, 1, 0]\\nclass = Bajo'),\n",
       " Text(0.9702970297029703, 0.5, 'gini = 0.0\\nsamples = 4\\nvalue = [0, 4, 0]\\nclass = Bajo'),\n",
       " Text(0.9851485148514851, 0.5588235294117647, 'TotalBsmtSF <= 1904.5\\ngini = 0.069\\nsamples = 28\\nvalue = [0, 1, 27]\\nclass = Medio'),\n",
       " Text(0.9801980198019802, 0.5, 'gini = 0.0\\nsamples = 27\\nvalue = [0, 0, 27]\\nclass = Medio'),\n",
       " Text(0.9900990099009901, 0.5, 'gini = 0.0\\nsamples = 1\\nvalue = [0, 1, 0]\\nclass = Bajo'),\n",
       " Text(0.9851485148514851, 0.6176470588235294, 'gini = 0.0\\nsamples = 28\\nvalue = [0, 0, 28]\\nclass = Medio'),\n",
       " Text(0.9900990099009901, 0.6764705882352942, 'gini = 0.0\\nsamples = 130\\nvalue = [0, 0, 130]\\nclass = Medio'),\n",
       " Text(0.995049504950495, 0.7352941176470589, 'gini = 0.0\\nsamples = 2\\nvalue = [0, 2, 0]\\nclass = Bajo')]"
      ]
     },
     "execution_count": 98,
     "metadata": {},
     "output_type": "execute_result"
    },
    {
     "data": {
      "image/png": "[encoded data removed]",
      "text/plain": [
       "<Figure size 1080x648 with 1 Axes>"
      ]
     },
     "metadata": {},
     "output_type": "display_data"
    }
   ],
   "source": [
    "arbol = DecisionTreeClassifier(random_state=123) \n",
    "arbol = arbol.fit(X_train, y_train) \n",
    "tree.plot_tree(arbol,feature_names=data[predictors_1].columns,\n",
    "               class_names=['Alto','Bajo','Medio'],filled=True )"
   ]
  },
  {
   "cell_type": "code",
   "execution_count": 100,
   "metadata": {},
   "outputs": [],
   "source": [
    "y_pred = arbol.predict(X_test)\n",
    "cm = confusion_matrix(y_test,y_pred)"
   ]
  },
  {
   "cell_type": "code",
   "execution_count": 101,
   "metadata": {},
   "outputs": [
    {
     "name": "stdout",
     "output_type": "stream",
     "text": [
      "Matriz de confusión para detectar precios de casas con Classification Tree\n",
      " [[102  28   3]\n",
      " [ 35  95  23]\n",
      " [  1  29 122]]\n",
      "Accuracy:  0.728310502283105\n"
     ]
    }
   ],
   "source": [
    "accuracy=accuracy_score(y_test,y_pred)\n",
    "print('Matriz de confusión para detectar precios de casas con Classification Tree\\n',cm)\n",
    "print('Accuracy: ',accuracy)"
   ]
  },
  {
   "cell_type": "code",
   "execution_count": 102,
   "metadata": {},
   "outputs": [
    {
     "name": "stdout",
     "output_type": "stream",
     "text": [
      "              precision    recall  f1-score   support\n",
      "\n",
      "           0       0.74      0.77      0.75       133\n",
      "           1       0.62      0.62      0.62       153\n",
      "           2       0.82      0.80      0.81       152\n",
      "\n",
      "    accuracy                           0.73       438\n",
      "   macro avg       0.73      0.73      0.73       438\n",
      "weighted avg       0.73      0.73      0.73       438\n",
      "\n"
     ]
    }
   ],
   "source": [
    "print(classification_report(y_test,y_pred))"
   ]
  },
  {
   "cell_type": "markdown",
   "metadata": {},
   "source": [
    "### Random Forest"
   ]
  },
  {
   "cell_type": "code",
   "execution_count": 109,
   "metadata": {},
   "outputs": [],
   "source": [
    "arbol = RandomForestClassifier(random_state=123)\n",
    "arbol = arbol.fit(X_train, y_train) "
   ]
  },
  {
   "cell_type": "code",
   "execution_count": 110,
   "metadata": {},
   "outputs": [],
   "source": [
    "y_pred = arbol.predict(X_test)\n",
    "cm = confusion_matrix(y_test,y_pred)"
   ]
  },
  {
   "cell_type": "code",
   "execution_count": 111,
   "metadata": {},
   "outputs": [
    {
     "name": "stdout",
     "output_type": "stream",
     "text": [
      "Matriz de confusión para detectar precios de casas con Random Forest\n",
      " [[105  27   1]\n",
      " [ 34  98  21]\n",
      " [  1  24 127]]\n",
      "Accuracy:  0.7534246575342466\n"
     ]
    }
   ],
   "source": [
    "accuracy=accuracy_score(y_test,y_pred)\n",
    "print('Matriz de confusión para detectar precios de casas con Random Forest\\n',cm)\n",
    "print('Accuracy: ',accuracy)"
   ]
  },
  {
   "cell_type": "code",
   "execution_count": 112,
   "metadata": {},
   "outputs": [
    {
     "name": "stdout",
     "output_type": "stream",
     "text": [
      "              precision    recall  f1-score   support\n",
      "\n",
      "           0       0.75      0.79      0.77       133\n",
      "           1       0.66      0.64      0.65       153\n",
      "           2       0.85      0.84      0.84       152\n",
      "\n",
      "    accuracy                           0.75       438\n",
      "   macro avg       0.75      0.76      0.75       438\n",
      "weighted avg       0.75      0.75      0.75       438\n",
      "\n"
     ]
    }
   ],
   "source": [
    "print(classification_report(y_test,y_pred))"
   ]
  },
  {
   "cell_type": "markdown",
   "metadata": {},
   "source": [
    "### Naive Bayes"
   ]
  },
  {
   "cell_type": "code",
   "execution_count": 116,
   "metadata": {},
   "outputs": [
    {
     "data": {
      "text/plain": [
       "GaussianNB()"
      ]
     },
     "execution_count": 116,
     "metadata": {},
     "output_type": "execute_result"
    }
   ],
   "source": [
    "gaussian = GaussianNB() \n",
    "gaussian.fit(X_train,y_train)"
   ]
  },
  {
   "cell_type": "code",
   "execution_count": 117,
   "metadata": {},
   "outputs": [],
   "source": [
    "y_pred = gaussian.predict(X_test)\n",
    "cm = confusion_matrix(y_test,y_pred)"
   ]
  },
  {
   "cell_type": "code",
   "execution_count": 118,
   "metadata": {},
   "outputs": [
    {
     "name": "stdout",
     "output_type": "stream",
     "text": [
      "Matriz de confusión para detectar precios de casas con Classification Tree\n",
      " [[110  21   2]\n",
      " [ 40 106   7]\n",
      " [  0  44 108]]\n",
      "Accuracy:  0.7397260273972602\n"
     ]
    }
   ],
   "source": [
    "accuracy=accuracy_score(y_test,y_pred)\n",
    "print('Matriz de confusión para detectar precios de casas con Classification Tree\\n',cm)\n",
    "print('Accuracy: ',accuracy)"
   ]
  },
  {
   "cell_type": "code",
   "execution_count": 119,
   "metadata": {},
   "outputs": [
    {
     "name": "stdout",
     "output_type": "stream",
     "text": [
      "              precision    recall  f1-score   support\n",
      "\n",
      "           0       0.73      0.83      0.78       133\n",
      "           1       0.62      0.69      0.65       153\n",
      "           2       0.92      0.71      0.80       152\n",
      "\n",
      "    accuracy                           0.74       438\n",
      "   macro avg       0.76      0.74      0.74       438\n",
      "weighted avg       0.76      0.74      0.74       438\n",
      "\n"
     ]
    }
   ],
   "source": [
    "print(classification_report(y_test,y_pred))"
   ]
  },
  {
   "cell_type": "markdown",
   "metadata": {},
   "source": [
    "### Conclusión comparación a modelos anteriores"
   ]
  },
  {
   "cell_type": "markdown",
   "metadata": {},
   "source": [
    "#### Basado en los modelos anteriores podemos observar que el que el Classification tree tiene una exactitud del 72.8%, el Random Forest del 75.3%  y el Naive Bayes del 73.9%. Debido a esto todos estos modelos anteriores tienen menor exactitud que el mejor modelo de SVM para nuestro dataset (Kernell radial con C=1 y Gamma = 0.0001), teniendo este una exactitud del 76.4%, puede que sea una diferencia leve, pero basados en las cantidades de falsos positivos (0.66 de precisión y 0.64 de recall en el mejor caso de los modelos anteriores) y en exactitud(75.3% en el random forest) podemos asegurar que el modelo de SVM con kernel radial superior a los modelos anteriores anteriores.   \n",
    "#### Algo que podemos mencionar es que el modelo de Naive Bayes tiene problemas al clasificar casas con precio mediano, teniendo una precisión del 62%, teniendo incluso menos precisión que los modelos con kernel lineal y polinómico de SVM. Algo interesante a mencionar es que el modelo SVM con Kernel lineal toma poco tiempo a comparación de los kernel lineal y polinómico, debido a que este si converge en iteraciones. Además de los modelos anteriores el classification tree fue el que más tiempo tardó, teniendo una media de 30s, esto debido a que no había un limite en la profundidad del árbol, lo cual extendió el tiempo de ejecución y a pesar de esto no logró superar la exactitud de los modelos de SVM."
   ]
  }
 ],
 "metadata": {
  "interpreter": {
   "hash": "b374b92417bbff6f7c2a6787e2df9adb8d97f050a6d65383b7da92b3477b41ea"
  },
  "kernelspec": {
   "display_name": "Python 3.9.10 64-bit",
   "language": "python",
   "name": "python3"
  },
  "language_info": {
   "codemirror_mode": {
    "name": "ipython",
    "version": 3
   },
   "file_extension": ".py",
   "mimetype": "text/x-python",
   "name": "python",
   "nbconvert_exporter": "python",
   "pygments_lexer": "ipython3",
   "version": "3.9.10"
  },
  "orig_nbformat": 4
 },
 "nbformat": 4,
 "nbformat_minor": 2
}
